{
 "cells": [
  {
   "cell_type": "markdown",
   "id": "158a3fa9",
   "metadata": {},
   "source": [
    "# MACHINE LEARNING ques 2"
   ]
  },
  {
   "cell_type": "markdown",
   "id": "78e0b1ad",
   "metadata": {},
   "source": [
    "Q2.Imagine you have a dataset where you have different features like Age ,\n",
    "Gender , Height , Weight , BMI , and Blood Pressure and you have to classify the people into\n",
    "different classes like Normal , Overweight , Obesity , Underweight , and Extreme Obesity by using\n",
    "any 4 different classification algorithms. Now you have to build a model which\n",
    "can classify people into different classes.\n",
    "\n",
    "Dataset This is the Dataset You can use this dataset for this question."
   ]
  },
  {
   "cell_type": "markdown",
   "id": "12875471",
   "metadata": {},
   "source": [
    "## Importing Libraries"
   ]
  },
  {
   "cell_type": "code",
   "execution_count": 2,
   "id": "15a6f682",
   "metadata": {},
   "outputs": [],
   "source": [
    "import pandas as pd\n",
    "import numpy as np\n",
    "import seaborn as sns\n",
    "import matplotlib.pyplot as plt\n",
    "from scipy.stats import shapiro\n",
    "%matplotlib inline"
   ]
  },
  {
   "cell_type": "markdown",
   "id": "1fe80e91",
   "metadata": {},
   "source": [
    "## Reading Data set "
   ]
  },
  {
   "cell_type": "code",
   "execution_count": 3,
   "id": "ae0f5df6",
   "metadata": {},
   "outputs": [],
   "source": [
    "df = pd.read_csv('ObesityDataSet_raw_and_data_sinthetic.csv')"
   ]
  },
  {
   "cell_type": "code",
   "execution_count": 4,
   "id": "08ed6ef2",
   "metadata": {},
   "outputs": [
    {
     "data": {
      "text/html": [
       "<div>\n",
       "<style scoped>\n",
       "    .dataframe tbody tr th:only-of-type {\n",
       "        vertical-align: middle;\n",
       "    }\n",
       "\n",
       "    .dataframe tbody tr th {\n",
       "        vertical-align: top;\n",
       "    }\n",
       "\n",
       "    .dataframe thead th {\n",
       "        text-align: right;\n",
       "    }\n",
       "</style>\n",
       "<table border=\"1\" class=\"dataframe\">\n",
       "  <thead>\n",
       "    <tr style=\"text-align: right;\">\n",
       "      <th></th>\n",
       "      <th>Gender</th>\n",
       "      <th>Age</th>\n",
       "      <th>Height</th>\n",
       "      <th>Weight</th>\n",
       "      <th>family_history_with_overweight</th>\n",
       "      <th>FAVC</th>\n",
       "      <th>FCVC</th>\n",
       "      <th>NCP</th>\n",
       "      <th>CAEC</th>\n",
       "      <th>SMOKE</th>\n",
       "      <th>CH2O</th>\n",
       "      <th>SCC</th>\n",
       "      <th>FAF</th>\n",
       "      <th>TUE</th>\n",
       "      <th>CALC</th>\n",
       "      <th>MTRANS</th>\n",
       "      <th>NObeyesdad</th>\n",
       "    </tr>\n",
       "  </thead>\n",
       "  <tbody>\n",
       "    <tr>\n",
       "      <th>0</th>\n",
       "      <td>Female</td>\n",
       "      <td>21.0</td>\n",
       "      <td>1.62</td>\n",
       "      <td>64.0</td>\n",
       "      <td>yes</td>\n",
       "      <td>no</td>\n",
       "      <td>2.0</td>\n",
       "      <td>3.0</td>\n",
       "      <td>Sometimes</td>\n",
       "      <td>no</td>\n",
       "      <td>2.0</td>\n",
       "      <td>no</td>\n",
       "      <td>0.0</td>\n",
       "      <td>1.0</td>\n",
       "      <td>no</td>\n",
       "      <td>Public_Transportation</td>\n",
       "      <td>Normal_Weight</td>\n",
       "    </tr>\n",
       "    <tr>\n",
       "      <th>1</th>\n",
       "      <td>Female</td>\n",
       "      <td>21.0</td>\n",
       "      <td>1.52</td>\n",
       "      <td>56.0</td>\n",
       "      <td>yes</td>\n",
       "      <td>no</td>\n",
       "      <td>3.0</td>\n",
       "      <td>3.0</td>\n",
       "      <td>Sometimes</td>\n",
       "      <td>yes</td>\n",
       "      <td>3.0</td>\n",
       "      <td>yes</td>\n",
       "      <td>3.0</td>\n",
       "      <td>0.0</td>\n",
       "      <td>Sometimes</td>\n",
       "      <td>Public_Transportation</td>\n",
       "      <td>Normal_Weight</td>\n",
       "    </tr>\n",
       "    <tr>\n",
       "      <th>2</th>\n",
       "      <td>Male</td>\n",
       "      <td>23.0</td>\n",
       "      <td>1.80</td>\n",
       "      <td>77.0</td>\n",
       "      <td>yes</td>\n",
       "      <td>no</td>\n",
       "      <td>2.0</td>\n",
       "      <td>3.0</td>\n",
       "      <td>Sometimes</td>\n",
       "      <td>no</td>\n",
       "      <td>2.0</td>\n",
       "      <td>no</td>\n",
       "      <td>2.0</td>\n",
       "      <td>1.0</td>\n",
       "      <td>Frequently</td>\n",
       "      <td>Public_Transportation</td>\n",
       "      <td>Normal_Weight</td>\n",
       "    </tr>\n",
       "    <tr>\n",
       "      <th>3</th>\n",
       "      <td>Male</td>\n",
       "      <td>27.0</td>\n",
       "      <td>1.80</td>\n",
       "      <td>87.0</td>\n",
       "      <td>no</td>\n",
       "      <td>no</td>\n",
       "      <td>3.0</td>\n",
       "      <td>3.0</td>\n",
       "      <td>Sometimes</td>\n",
       "      <td>no</td>\n",
       "      <td>2.0</td>\n",
       "      <td>no</td>\n",
       "      <td>2.0</td>\n",
       "      <td>0.0</td>\n",
       "      <td>Frequently</td>\n",
       "      <td>Walking</td>\n",
       "      <td>Overweight_Level_I</td>\n",
       "    </tr>\n",
       "    <tr>\n",
       "      <th>4</th>\n",
       "      <td>Male</td>\n",
       "      <td>22.0</td>\n",
       "      <td>1.78</td>\n",
       "      <td>89.8</td>\n",
       "      <td>no</td>\n",
       "      <td>no</td>\n",
       "      <td>2.0</td>\n",
       "      <td>1.0</td>\n",
       "      <td>Sometimes</td>\n",
       "      <td>no</td>\n",
       "      <td>2.0</td>\n",
       "      <td>no</td>\n",
       "      <td>0.0</td>\n",
       "      <td>0.0</td>\n",
       "      <td>Sometimes</td>\n",
       "      <td>Public_Transportation</td>\n",
       "      <td>Overweight_Level_II</td>\n",
       "    </tr>\n",
       "  </tbody>\n",
       "</table>\n",
       "</div>"
      ],
      "text/plain": [
       "   Gender   Age  Height  Weight family_history_with_overweight FAVC  FCVC  \\\n",
       "0  Female  21.0    1.62    64.0                            yes   no   2.0   \n",
       "1  Female  21.0    1.52    56.0                            yes   no   3.0   \n",
       "2    Male  23.0    1.80    77.0                            yes   no   2.0   \n",
       "3    Male  27.0    1.80    87.0                             no   no   3.0   \n",
       "4    Male  22.0    1.78    89.8                             no   no   2.0   \n",
       "\n",
       "   NCP       CAEC SMOKE  CH2O  SCC  FAF  TUE        CALC  \\\n",
       "0  3.0  Sometimes    no   2.0   no  0.0  1.0          no   \n",
       "1  3.0  Sometimes   yes   3.0  yes  3.0  0.0   Sometimes   \n",
       "2  3.0  Sometimes    no   2.0   no  2.0  1.0  Frequently   \n",
       "3  3.0  Sometimes    no   2.0   no  2.0  0.0  Frequently   \n",
       "4  1.0  Sometimes    no   2.0   no  0.0  0.0   Sometimes   \n",
       "\n",
       "                  MTRANS           NObeyesdad  \n",
       "0  Public_Transportation        Normal_Weight  \n",
       "1  Public_Transportation        Normal_Weight  \n",
       "2  Public_Transportation        Normal_Weight  \n",
       "3                Walking   Overweight_Level_I  \n",
       "4  Public_Transportation  Overweight_Level_II  "
      ]
     },
     "execution_count": 4,
     "metadata": {},
     "output_type": "execute_result"
    }
   ],
   "source": [
    "df.head()"
   ]
  },
  {
   "cell_type": "markdown",
   "id": "f69a4d66",
   "metadata": {},
   "source": [
    "## Understanding the Data"
   ]
  },
  {
   "cell_type": "code",
   "execution_count": 5,
   "id": "3bfc8526",
   "metadata": {},
   "outputs": [
    {
     "data": {
      "text/plain": [
       "<bound method DataFrame.info of       Gender        Age    Height      Weight family_history_with_overweight  \\\n",
       "0     Female  21.000000  1.620000   64.000000                            yes   \n",
       "1     Female  21.000000  1.520000   56.000000                            yes   \n",
       "2       Male  23.000000  1.800000   77.000000                            yes   \n",
       "3       Male  27.000000  1.800000   87.000000                             no   \n",
       "4       Male  22.000000  1.780000   89.800000                             no   \n",
       "...      ...        ...       ...         ...                            ...   \n",
       "2106  Female  20.976842  1.710730  131.408528                            yes   \n",
       "2107  Female  21.982942  1.748584  133.742943                            yes   \n",
       "2108  Female  22.524036  1.752206  133.689352                            yes   \n",
       "2109  Female  24.361936  1.739450  133.346641                            yes   \n",
       "2110  Female  23.664709  1.738836  133.472641                            yes   \n",
       "\n",
       "     FAVC  FCVC  NCP       CAEC SMOKE      CH2O  SCC       FAF       TUE  \\\n",
       "0      no   2.0  3.0  Sometimes    no  2.000000   no  0.000000  1.000000   \n",
       "1      no   3.0  3.0  Sometimes   yes  3.000000  yes  3.000000  0.000000   \n",
       "2      no   2.0  3.0  Sometimes    no  2.000000   no  2.000000  1.000000   \n",
       "3      no   3.0  3.0  Sometimes    no  2.000000   no  2.000000  0.000000   \n",
       "4      no   2.0  1.0  Sometimes    no  2.000000   no  0.000000  0.000000   \n",
       "...   ...   ...  ...        ...   ...       ...  ...       ...       ...   \n",
       "2106  yes   3.0  3.0  Sometimes    no  1.728139   no  1.676269  0.906247   \n",
       "2107  yes   3.0  3.0  Sometimes    no  2.005130   no  1.341390  0.599270   \n",
       "2108  yes   3.0  3.0  Sometimes    no  2.054193   no  1.414209  0.646288   \n",
       "2109  yes   3.0  3.0  Sometimes    no  2.852339   no  1.139107  0.586035   \n",
       "2110  yes   3.0  3.0  Sometimes    no  2.863513   no  1.026452  0.714137   \n",
       "\n",
       "            CALC                 MTRANS           NObeyesdad  \n",
       "0             no  Public_Transportation        Normal_Weight  \n",
       "1      Sometimes  Public_Transportation        Normal_Weight  \n",
       "2     Frequently  Public_Transportation        Normal_Weight  \n",
       "3     Frequently                Walking   Overweight_Level_I  \n",
       "4      Sometimes  Public_Transportation  Overweight_Level_II  \n",
       "...          ...                    ...                  ...  \n",
       "2106   Sometimes  Public_Transportation     Obesity_Type_III  \n",
       "2107   Sometimes  Public_Transportation     Obesity_Type_III  \n",
       "2108   Sometimes  Public_Transportation     Obesity_Type_III  \n",
       "2109   Sometimes  Public_Transportation     Obesity_Type_III  \n",
       "2110   Sometimes  Public_Transportation     Obesity_Type_III  \n",
       "\n",
       "[2111 rows x 17 columns]>"
      ]
     },
     "execution_count": 5,
     "metadata": {},
     "output_type": "execute_result"
    }
   ],
   "source": [
    "df.info"
   ]
  },
  {
   "cell_type": "code",
   "execution_count": 6,
   "id": "5c5c43ae",
   "metadata": {},
   "outputs": [
    {
     "data": {
      "text/plain": [
       "Index(['Gender', 'Age', 'Height', 'Weight', 'family_history_with_overweight',\n",
       "       'FAVC', 'FCVC', 'NCP', 'CAEC', 'SMOKE', 'CH2O', 'SCC', 'FAF', 'TUE',\n",
       "       'CALC', 'MTRANS', 'NObeyesdad'],\n",
       "      dtype='object')"
      ]
     },
     "execution_count": 6,
     "metadata": {},
     "output_type": "execute_result"
    }
   ],
   "source": [
    "df.columns"
   ]
  },
  {
   "cell_type": "code",
   "execution_count": 7,
   "id": "71c5f8ce",
   "metadata": {},
   "outputs": [
    {
     "data": {
      "text/plain": [
       "Gender                             object\n",
       "Age                               float64\n",
       "Height                            float64\n",
       "Weight                            float64\n",
       "family_history_with_overweight     object\n",
       "FAVC                               object\n",
       "FCVC                              float64\n",
       "NCP                               float64\n",
       "CAEC                               object\n",
       "SMOKE                              object\n",
       "CH2O                              float64\n",
       "SCC                                object\n",
       "FAF                               float64\n",
       "TUE                               float64\n",
       "CALC                               object\n",
       "MTRANS                             object\n",
       "NObeyesdad                         object\n",
       "dtype: object"
      ]
     },
     "execution_count": 7,
     "metadata": {},
     "output_type": "execute_result"
    }
   ],
   "source": [
    "df.dtypes"
   ]
  },
  {
   "cell_type": "code",
   "execution_count": 8,
   "id": "8acfbf74",
   "metadata": {},
   "outputs": [
    {
     "data": {
      "text/plain": [
       "Gender                            0\n",
       "Age                               0\n",
       "Height                            0\n",
       "Weight                            0\n",
       "family_history_with_overweight    0\n",
       "FAVC                              0\n",
       "FCVC                              0\n",
       "NCP                               0\n",
       "CAEC                              0\n",
       "SMOKE                             0\n",
       "CH2O                              0\n",
       "SCC                               0\n",
       "FAF                               0\n",
       "TUE                               0\n",
       "CALC                              0\n",
       "MTRANS                            0\n",
       "NObeyesdad                        0\n",
       "dtype: int64"
      ]
     },
     "execution_count": 8,
     "metadata": {},
     "output_type": "execute_result"
    }
   ],
   "source": [
    "df.isnull().sum()"
   ]
  },
  {
   "cell_type": "code",
   "execution_count": 9,
   "id": "30e3afca",
   "metadata": {},
   "outputs": [
    {
     "data": {
      "text/plain": [
       "0       False\n",
       "1       False\n",
       "2       False\n",
       "3       False\n",
       "4       False\n",
       "        ...  \n",
       "2106    False\n",
       "2107    False\n",
       "2108    False\n",
       "2109    False\n",
       "2110    False\n",
       "Length: 2111, dtype: bool"
      ]
     },
     "execution_count": 9,
     "metadata": {},
     "output_type": "execute_result"
    }
   ],
   "source": [
    "df.duplicated()"
   ]
  },
  {
   "cell_type": "code",
   "execution_count": 10,
   "id": "9dcca442",
   "metadata": {},
   "outputs": [
    {
     "data": {
      "text/plain": [
       "(2111, 17)"
      ]
     },
     "execution_count": 10,
     "metadata": {},
     "output_type": "execute_result"
    }
   ],
   "source": [
    "df.shape"
   ]
  },
  {
   "cell_type": "code",
   "execution_count": 11,
   "id": "27741690",
   "metadata": {},
   "outputs": [],
   "source": [
    "# Convert object/text variables to category variables\n",
    "columns = [\"Gender\", \"family_history_with_overweight\", \"FAVC\", \"CAEC\", \"SMOKE\", \"SCC\", \"CALC\", \"MTRANS\", \"NObeyesdad\"]\n",
    "\n",
    "for col in columns:\n",
    "    df[col] = df[col].astype('category')"
   ]
  },
  {
   "cell_type": "code",
   "execution_count": 12,
   "id": "88a51200",
   "metadata": {},
   "outputs": [],
   "source": [
    "# function to interigate data after conversion\n",
    "# provides min, max, unique counts\n",
    "def variable_counts(columns, stage):\n",
    "\n",
    "    if stage == 'pre':\n",
    "        print(\"Pre Conversion to Integer\")\n",
    "    else:\n",
    "        print(\"Post Conversion to Integer\")\n",
    "\n",
    "    for col in columns:    \n",
    "        print(\"Variable:\", col, \"| Count Unique:\",df[col].nunique(),\"| Min: \", df[col].min(), \"| Max: \",df[col].max())"
   ]
  },
  {
   "cell_type": "code",
   "execution_count": 13,
   "id": "e1ca8f82",
   "metadata": {},
   "outputs": [
    {
     "name": "stdout",
     "output_type": "stream",
     "text": [
      "Pre Conversion to Integer\n",
      "Variable: FCVC | Count Unique: 810 | Min:  1.0 | Max:  3.0\n",
      "Variable: NCP | Count Unique: 635 | Min:  1.0 | Max:  4.0\n",
      "Variable: CH2O | Count Unique: 1268 | Min:  1.0 | Max:  3.0\n",
      "Variable: TUE | Count Unique: 1129 | Min:  0.0 | Max:  2.0\n",
      "Variable: FAF | Count Unique: 1190 | Min:  0.0 | Max:  3.0\n",
      "\n",
      "Post Conversion to Integer\n",
      "Variable: FCVC | Count Unique: 3 | Min:  1 | Max:  3\n",
      "Variable: NCP | Count Unique: 4 | Min:  1 | Max:  4\n",
      "Variable: CH2O | Count Unique: 3 | Min:  1 | Max:  3\n",
      "Variable: TUE | Count Unique: 3 | Min:  0 | Max:  2\n",
      "Variable: FAF | Count Unique: 4 | Min:  0 | Max:  3\n"
     ]
    }
   ],
   "source": [
    "# Convert float variables to integer to the nearest inter\n",
    "columns = [\"FCVC\", \"NCP\", \"CH2O\", \"TUE\", \"FAF\"]\n",
    "\n",
    "# pre conversion countss\n",
    "variable_counts(columns, 'pre')\n",
    "\n",
    "# convert to int / nearest int value\n",
    "for col in columns:\n",
    "    #round to nearest whole number\n",
    "    df[col] = round(df[col]).astype('int')  \n",
    "    \n",
    "# post conversion counts\n",
    "print(\"\")\n",
    "variable_counts(columns, 'post')"
   ]
  },
  {
   "cell_type": "code",
   "execution_count": 14,
   "id": "42f648b4",
   "metadata": {},
   "outputs": [
    {
     "data": {
      "text/plain": [
       "Gender                            category\n",
       "Age                                float64\n",
       "Height                             float64\n",
       "Weight                             float64\n",
       "family_history_with_overweight    category\n",
       "FAVC                              category\n",
       "FCVC                                 int32\n",
       "NCP                                  int32\n",
       "CAEC                              category\n",
       "SMOKE                             category\n",
       "CH2O                                 int32\n",
       "SCC                               category\n",
       "FAF                                  int32\n",
       "TUE                                  int32\n",
       "CALC                              category\n",
       "MTRANS                            category\n",
       "NObeyesdad                        category\n",
       "dtype: object"
      ]
     },
     "execution_count": 14,
     "metadata": {},
     "output_type": "execute_result"
    }
   ],
   "source": [
    "df.dtypes"
   ]
  },
  {
   "cell_type": "code",
   "execution_count": 19,
   "id": "7349d1f5",
   "metadata": {},
   "outputs": [
    {
     "name": "stderr",
     "output_type": "stream",
     "text": [
      "C:\\Users\\kundan Gupta\\AppData\\Local\\Temp\\ipykernel_10304\\2246645352.py:7: UserWarning: \n",
      "\n",
      "`distplot` is a deprecated function and will be removed in seaborn v0.14.0.\n",
      "\n",
      "Please adapt your code to use either `displot` (a figure-level function with\n",
      "similar flexibility) or `histplot` (an axes-level function for histograms).\n",
      "\n",
      "For a guide to updating your code to use the new functions, please see\n",
      "https://gist.github.com/mwaskom/de44147ed2974457ad6372750bbe5751\n",
      "\n",
      "  sns.distplot(df[\"Age\"], kde=True)\n"
     ]
    },
    {
     "data": {
      "image/png": "[encoded data removed]",
      "text/plain": [
       "<Figure size 1600x500 with 2 Axes>"
      ]
     },
     "metadata": {},
     "output_type": "display_data"
    }
   ],
   "source": [
    "# ratio variable distribution \n",
    "\n",
    "fig = plt.figure(figsize = (16,5))\n",
    "\n",
    "#distplot\n",
    "ax1 = fig.add_subplot(121)\n",
    "sns.distplot(df[\"Age\"], kde=True)\n",
    "\n",
    "#boxplot\n",
    "ax1 = ax1 = fig.add_subplot(122)\n",
    "sns.boxplot(df.Age)\n",
    "\n",
    "# show figure & plots\n",
    "fig.suptitle(\"Distribution of Numeric (Ratio) Variable\", fontsize=20)\n",
    "plt.tight_layout(pad=5, w_pad=0.5, h_pad=.1)\n",
    "plt.show()"
   ]
  },
  {
   "cell_type": "code",
   "execution_count": 20,
   "id": "66462558",
   "metadata": {},
   "outputs": [
    {
     "name": "stderr",
     "output_type": "stream",
     "text": [
      "C:\\Users\\kundan Gupta\\AppData\\Local\\Temp\\ipykernel_10304\\2028145602.py:8: FutureWarning: The default value of numeric_only in DataFrame.corr is deprecated. In a future version, it will default to False. Select only valid columns or specify the value of numeric_only to silence this warning.\n",
      "  matrix = np.triu(df.corr())\n",
      "C:\\Users\\kundan Gupta\\AppData\\Local\\Temp\\ipykernel_10304\\2028145602.py:14: FutureWarning: The default value of numeric_only in DataFrame.corr is deprecated. In a future version, it will default to False. Select only valid columns or specify the value of numeric_only to silence this warning.\n",
      "  sns.heatmap(df.corr(),\n",
      "C:\\Users\\kundan Gupta\\AppData\\Local\\Temp\\ipykernel_10304\\2028145602.py:27: UserWarning: FixedFormatter should only be used together with FixedLocator\n",
      "  ax2.set_xticklabels(rotation=45, horizontalalignment='right', labels=df.NObeyesdad)\n"
     ]
    },
    {
     "data": {
      "image/png": "[encoded data removed]",
      "text/plain": [
       "<Figure size 1500x500 with 3 Axes>"
      ]
     },
     "metadata": {},
     "output_type": "display_data"
    }
   ],
   "source": [
    "# create figure\n",
    "fig = plt.figure(figsize=(15, 5))\n",
    "\n",
    "# add subplot for one row 2 graphs first postion\n",
    "ax1 = fig.add_subplot(121)\n",
    "\n",
    "# correlation data matrix\n",
    "matrix = np.triu(df.corr())\n",
    "\n",
    "# set title \n",
    "ax1.title.set_text(\"Coorelation Heatmap: Predictor Variables\")\n",
    "\n",
    "#define plot\n",
    "sns.heatmap(df.corr(), \n",
    "                 mask=matrix,\n",
    "                 annot = False,                 \n",
    "                 fmt='.1g', \n",
    "                 cmap=\"YlGnBu\", \n",
    "                 vmin=-1, vmax=1, center= 0,                 \n",
    "                 square=\"True\",\n",
    "                 ax=ax1)\n",
    "\n",
    "# add second subplot\n",
    "ax2 = fig.add_subplot(122)\n",
    "\n",
    "# rotate axis label\n",
    "ax2.set_xticklabels(rotation=45, horizontalalignment='right', labels=df.NObeyesdad)\n",
    "\n",
    "# Set title text\n",
    "ax2.title.set_text(\"Weight Category Counts: Target Variable\")\n",
    "\n",
    "# define second plot\n",
    "sns.countplot(x=\"NObeyesdad\",                  \n",
    "                 palette=\"Blues_d\", \n",
    "                 order=df.NObeyesdad.value_counts().index,\n",
    "                 ax = ax2,\n",
    "                 data=df)\n",
    "\n",
    "# labels for x and y\n",
    "ax2.xaxis.label.set_text(\"Level Category\")\n",
    "ax2.yaxis.label.set_text(\"Number of Records\")\n",
    "\n",
    "# turn off top and right frame lines\n",
    "ax2.spines['right'].set_visible(False)\n",
    "ax2.spines['top'].set_visible(False)\n",
    "\n",
    "# show figure & plots\n",
    "plt.tight_layout()\n",
    "plt.show()"
   ]
  },
  {
   "cell_type": "code",
   "execution_count": 21,
   "id": "428c56ff",
   "metadata": {},
   "outputs": [
    {
     "name": "stdout",
     "output_type": "stream",
     "text": [
      "Number of variables with > 0.95 correlation:  0\n"
     ]
    },
    {
     "name": "stderr",
     "output_type": "stream",
     "text": [
      "C:\\Users\\kundan Gupta\\AppData\\Local\\Temp\\ipykernel_10304\\1394047807.py:2: FutureWarning: The default value of numeric_only in DataFrame.corr is deprecated. In a future version, it will default to False. Select only valid columns or specify the value of numeric_only to silence this warning.\n",
      "  corr_matrix = df.corr().abs()\n",
      "C:\\Users\\kundan Gupta\\AppData\\Local\\Temp\\ipykernel_10304\\1394047807.py:5: DeprecationWarning: `np.bool` is a deprecated alias for the builtin `bool`. To silence this warning, use `bool` by itself. Doing this will not modify any behavior and is safe. If you specifically wanted the numpy scalar type, use `np.bool_` here.\n",
      "Deprecated in NumPy 1.20; for more details and guidance: https://numpy.org/devdocs/release/1.20.0-notes.html#deprecations\n",
      "  upper = corr_matrix.where(np.triu(np.ones(corr_matrix.shape), k=1).astype(np.bool))\n"
     ]
    }
   ],
   "source": [
    "# Create correlation matrix\n",
    "corr_matrix = df.corr().abs()\n",
    "\n",
    "# Select upper triangle of correlation matrix\n",
    "upper = corr_matrix.where(np.triu(np.ones(corr_matrix.shape), k=1).astype(np.bool))\n",
    "\n",
    "# Find index of feature columns with correlation greater than 0.95\n",
    "to_drop = [column for column in upper.columns if any(upper[column] > 0.95)]\n",
    "\n",
    "#print highly correlated variables\n",
    "print(\"Number of variables with > 0.95 correlation: \", len(to_drop))"
   ]
  },
  {
   "cell_type": "markdown",
   "id": "7e8145c4",
   "metadata": {},
   "source": [
    "## Performing encoding"
   ]
  },
  {
   "cell_type": "code",
   "execution_count": 33,
   "id": "2b59a844",
   "metadata": {},
   "outputs": [
    {
     "name": "stdout",
     "output_type": "stream",
     "text": [
      "Gender\n",
      "['Female', 'Male']\n",
      "Categories (2, object): ['Female', 'Male']\n",
      "\n",
      "\n",
      "family_history_with_overweight\n",
      "['yes', 'no']\n",
      "Categories (2, object): ['no', 'yes']\n",
      "\n",
      "\n",
      "FAVC\n",
      "['no', 'yes']\n",
      "Categories (2, object): ['no', 'yes']\n",
      "\n",
      "\n",
      "CAEC\n",
      "['Sometimes', 'Frequently', 'Always', 'no']\n",
      "Categories (4, object): ['Always', 'Frequently', 'Sometimes', 'no']\n",
      "\n",
      "\n",
      "SMOKE\n",
      "['no', 'yes']\n",
      "Categories (2, object): ['no', 'yes']\n",
      "\n",
      "\n",
      "SCC\n",
      "['no', 'yes']\n",
      "Categories (2, object): ['no', 'yes']\n",
      "\n",
      "\n",
      "CALC\n",
      "['no', 'Sometimes', 'Frequently', 'Always']\n",
      "Categories (4, object): ['Always', 'Frequently', 'Sometimes', 'no']\n",
      "\n",
      "\n",
      "MTRANS\n",
      "['Public_Transportation', 'Walking', 'Automobile', 'Motorbike', 'Bike']\n",
      "Categories (5, object): ['Automobile', 'Bike', 'Motorbike', 'Public_Transportation', 'Walking']\n",
      "\n",
      "\n",
      "NObeyesdad\n",
      "['Normal_Weight', 'Overweight_Level_I', 'Overweight_Level_II', 'Obesity_Type_I', 'Insufficient_Weight', 'Obesity_Type_II', 'Obesity_Type_III']\n",
      "Categories (7, object): ['Insufficient_Weight', 'Normal_Weight', 'Obesity_Type_I', 'Obesity_Type_II', 'Obesity_Type_III', 'Overweight_Level_I', 'Overweight_Level_II']\n",
      "\n",
      "\n"
     ]
    }
   ],
   "source": [
    "# Checking unique values of categorical variables\n",
    "# Author - Sai Dutt\n",
    "cat_col = ['Gender', 'family_history_with_overweight', 'FAVC', 'CAEC', 'SMOKE', 'SCC', 'CALC', 'MTRANS', 'NObeyesdad']\n",
    "\n",
    "for cat in cat_col:\n",
    "  print(cat)\n",
    "  print(df[cat].unique())\n",
    "  print(\"\\n\")"
   ]
  },
  {
   "cell_type": "code",
   "execution_count": 35,
   "id": "b1f0fca1",
   "metadata": {},
   "outputs": [],
   "source": [
    "# Author - Sai Dutt\n",
    "# Storing colum names in a list for later use\n",
    "cols = []\n",
    "for col in df.head(1) :  \n",
    "  cols.append(col)"
   ]
  },
  {
   "cell_type": "code",
   "execution_count": 37,
   "id": "18f62ac3",
   "metadata": {},
   "outputs": [
    {
     "data": {
      "text/plain": [
       "['Normal_Weight', 'Overweight_Level_I', 'Overweight_Level_II', 'Obesity_Type_I', 'Insufficient_Weight', 'Obesity_Type_II', 'Obesity_Type_III']\n",
       "Categories (7, object): ['Insufficient_Weight', 'Normal_Weight', 'Obesity_Type_I', 'Obesity_Type_II', 'Obesity_Type_III', 'Overweight_Level_I', 'Overweight_Level_II']"
      ]
     },
     "execution_count": 37,
     "metadata": {},
     "output_type": "execute_result"
    }
   ],
   "source": [
    "df['NObeyesdad'].unique()"
   ]
  },
  {
   "cell_type": "markdown",
   "id": "c73f19f0",
   "metadata": {},
   "source": [
    "Thats a lot of categories. Let us encode them with numbers. Since, there is a natural heirarchy among the classes this makes sense."
   ]
  },
  {
   "cell_type": "code",
   "execution_count": 38,
   "id": "71605419",
   "metadata": {},
   "outputs": [],
   "source": [
    "df['NObeyesdad'] = df['NObeyesdad'].map({'Normal_Weight' : 0, 'Overweight_Level_I': 1, 'Overweight_Level_II': 1, 'Insufficient_Weight': 0, \\\n",
    " 'Obesity_Type_I' : 2  , 'Obesity_Type_II' : 2, \\\n",
    " 'Obesity_Type_III' : 2 })"
   ]
  },
  {
   "cell_type": "markdown",
   "id": "bebea9a9",
   "metadata": {},
   "source": [
    "We convert the categorical features into numerical data. Categories such as CAEC, CALC, family_history and MTRANS follow a set order so this makes sense. The rest are have two classes."
   ]
  },
  {
   "cell_type": "code",
   "execution_count": 40,
   "id": "319ea22b",
   "metadata": {},
   "outputs": [
    {
     "data": {
      "text/html": [
       "<div>\n",
       "<style scoped>\n",
       "    .dataframe tbody tr th:only-of-type {\n",
       "        vertical-align: middle;\n",
       "    }\n",
       "\n",
       "    .dataframe tbody tr th {\n",
       "        vertical-align: top;\n",
       "    }\n",
       "\n",
       "    .dataframe thead th {\n",
       "        text-align: right;\n",
       "    }\n",
       "</style>\n",
       "<table border=\"1\" class=\"dataframe\">\n",
       "  <thead>\n",
       "    <tr style=\"text-align: right;\">\n",
       "      <th></th>\n",
       "      <th>Gender</th>\n",
       "      <th>Age</th>\n",
       "      <th>Height</th>\n",
       "      <th>Weight</th>\n",
       "      <th>family_history_with_overweight</th>\n",
       "      <th>FAVC</th>\n",
       "      <th>FCVC</th>\n",
       "      <th>NCP</th>\n",
       "      <th>CAEC</th>\n",
       "      <th>SMOKE</th>\n",
       "      <th>CH2O</th>\n",
       "      <th>SCC</th>\n",
       "      <th>FAF</th>\n",
       "      <th>TUE</th>\n",
       "      <th>CALC</th>\n",
       "      <th>MTRANS</th>\n",
       "      <th>NObeyesdad</th>\n",
       "    </tr>\n",
       "  </thead>\n",
       "  <tbody>\n",
       "    <tr>\n",
       "      <th>0</th>\n",
       "      <td>1</td>\n",
       "      <td>21.0</td>\n",
       "      <td>1.62</td>\n",
       "      <td>64.0</td>\n",
       "      <td>1</td>\n",
       "      <td>0</td>\n",
       "      <td>2</td>\n",
       "      <td>3</td>\n",
       "      <td>1</td>\n",
       "      <td>1</td>\n",
       "      <td>2</td>\n",
       "      <td>1</td>\n",
       "      <td>0</td>\n",
       "      <td>1</td>\n",
       "      <td>0</td>\n",
       "      <td>1</td>\n",
       "      <td>0</td>\n",
       "    </tr>\n",
       "    <tr>\n",
       "      <th>1</th>\n",
       "      <td>1</td>\n",
       "      <td>21.0</td>\n",
       "      <td>1.52</td>\n",
       "      <td>56.0</td>\n",
       "      <td>1</td>\n",
       "      <td>0</td>\n",
       "      <td>3</td>\n",
       "      <td>3</td>\n",
       "      <td>1</td>\n",
       "      <td>0</td>\n",
       "      <td>3</td>\n",
       "      <td>0</td>\n",
       "      <td>3</td>\n",
       "      <td>0</td>\n",
       "      <td>1</td>\n",
       "      <td>1</td>\n",
       "      <td>0</td>\n",
       "    </tr>\n",
       "    <tr>\n",
       "      <th>2</th>\n",
       "      <td>0</td>\n",
       "      <td>23.0</td>\n",
       "      <td>1.80</td>\n",
       "      <td>77.0</td>\n",
       "      <td>1</td>\n",
       "      <td>0</td>\n",
       "      <td>2</td>\n",
       "      <td>3</td>\n",
       "      <td>1</td>\n",
       "      <td>1</td>\n",
       "      <td>2</td>\n",
       "      <td>1</td>\n",
       "      <td>2</td>\n",
       "      <td>1</td>\n",
       "      <td>2</td>\n",
       "      <td>1</td>\n",
       "      <td>0</td>\n",
       "    </tr>\n",
       "    <tr>\n",
       "      <th>3</th>\n",
       "      <td>0</td>\n",
       "      <td>27.0</td>\n",
       "      <td>1.80</td>\n",
       "      <td>87.0</td>\n",
       "      <td>0</td>\n",
       "      <td>0</td>\n",
       "      <td>3</td>\n",
       "      <td>3</td>\n",
       "      <td>1</td>\n",
       "      <td>1</td>\n",
       "      <td>2</td>\n",
       "      <td>1</td>\n",
       "      <td>2</td>\n",
       "      <td>0</td>\n",
       "      <td>2</td>\n",
       "      <td>2</td>\n",
       "      <td>1</td>\n",
       "    </tr>\n",
       "    <tr>\n",
       "      <th>4</th>\n",
       "      <td>0</td>\n",
       "      <td>22.0</td>\n",
       "      <td>1.78</td>\n",
       "      <td>89.8</td>\n",
       "      <td>0</td>\n",
       "      <td>0</td>\n",
       "      <td>2</td>\n",
       "      <td>1</td>\n",
       "      <td>1</td>\n",
       "      <td>1</td>\n",
       "      <td>2</td>\n",
       "      <td>1</td>\n",
       "      <td>0</td>\n",
       "      <td>0</td>\n",
       "      <td>1</td>\n",
       "      <td>1</td>\n",
       "      <td>1</td>\n",
       "    </tr>\n",
       "  </tbody>\n",
       "</table>\n",
       "</div>"
      ],
      "text/plain": [
       "  Gender   Age  Height  Weight family_history_with_overweight FAVC  FCVC  NCP  \\\n",
       "0      1  21.0    1.62    64.0                              1    0     2    3   \n",
       "1      1  21.0    1.52    56.0                              1    0     3    3   \n",
       "2      0  23.0    1.80    77.0                              1    0     2    3   \n",
       "3      0  27.0    1.80    87.0                              0    0     3    3   \n",
       "4      0  22.0    1.78    89.8                              0    0     2    1   \n",
       "\n",
       "  CAEC SMOKE  CH2O SCC  FAF  TUE CALC MTRANS  NObeyesdad  \n",
       "0    1     1     2   1    0    1    0      1           0  \n",
       "1    1     0     3   0    3    0    1      1           0  \n",
       "2    1     1     2   1    2    1    2      1           0  \n",
       "3    1     1     2   1    2    0    2      2           1  \n",
       "4    1     1     2   1    0    0    1      1           1  "
      ]
     },
     "execution_count": 40,
     "metadata": {},
     "output_type": "execute_result"
    }
   ],
   "source": [
    "# Encoding the categories with numeric values\n",
    "# Author - Sai Dutt\n",
    "\n",
    "df['CAEC'] = df['CAEC'].apply(lambda x: ['no', 'Sometimes', 'Frequently', 'Always'].index(x))\n",
    "df['SMOKE'] = df['SMOKE'].apply(lambda x: ['yes', 'no'].index(x))\n",
    "df['SCC'] = df['SCC'].apply(lambda x: ['yes', 'no'].index(x))\n",
    "df['CALC'] = df['CALC'].apply(lambda x:['no', 'Sometimes', 'Frequently', 'Always'].index(x))\n",
    "df['Gender'] = df['Gender'].map({'Male' : 0, 'Female': 1})\n",
    "df['family_history_with_overweight'] = df['family_history_with_overweight'].map({'no' : 0, 'yes': 1})\n",
    "df['FAVC'] = df['FAVC'].map({'no' : 0, 'yes': 1})\n",
    "df['MTRANS'] = df['MTRANS'].map({'Public_Transportation': 1, 'Walking':2, 'Automobile':3, 'Motorbike':4, 'Bike':5})\n",
    "df.head()"
   ]
  },
  {
   "cell_type": "markdown",
   "id": "05015548",
   "metadata": {},
   "source": [
    "## Splitting the data "
   ]
  },
  {
   "cell_type": "code",
   "execution_count": 42,
   "id": "c81fa1b2",
   "metadata": {},
   "outputs": [],
   "source": [
    "# split dataset in features and target variable\n",
    "\n",
    "# Features\n",
    "X = df.drop(columns=[\"NObeyesdad\"])\n",
    "\n",
    "# Target variable\n",
    "y = df['NObeyesdad'] "
   ]
  },
  {
   "cell_type": "code",
   "execution_count": 43,
   "id": "8a772f50",
   "metadata": {},
   "outputs": [],
   "source": [
    "# import sklearn packages for data treatments\n",
    "from sklearn.model_selection import train_test_split # Import train_test_split function\n",
    "\n",
    "# Split dataset into training set and test set\n",
    "X_train, X_test, y_train, y_test = train_test_split(X, y, test_size=0.3, random_state=1) # 70% training and 30% test"
   ]
  },
  {
   "cell_type": "code",
   "execution_count": 44,
   "id": "1f194c36",
   "metadata": {},
   "outputs": [],
   "source": [
    "from sklearn.neighbors import KNeighborsClassifier\n",
    "from sklearn.tree import DecisionTreeClassifier # Import Decision Tree Classifier\n",
    "from sklearn.svm import SVC\n",
    "from sklearn.ensemble import RandomForestClassifier\n",
    "from sklearn.metrics import classification_report\n",
    "from sklearn.naive_bayes import GaussianNB\n",
    "from sklearn import metrics #Import scikit-learn metrics module for accuracy calculation\n",
    "from sklearn.preprocessing import StandardScaler # Import for standard scaling of the data\n",
    "from sklearn.preprocessing import MinMaxScaler # Import for standard scaling of the data\n",
    "\n",
    "# standard scale data\n",
    "ss = StandardScaler()\n",
    "X_train_scaled = ss.fit_transform(X_train)\n",
    "X_test_scaled = ss.transform(X_test)\n",
    "\n",
    "# tested MinMaxScaler as KNN historically does better with MinMax\n",
    "mm = MinMaxScaler()\n",
    "X_train_mm_scaled = ss.fit_transform(X_train)\n",
    "X_test_mm_scaled = ss.transform(X_test)\n",
    "\n",
    "# program to run multilple models though sklearn \n",
    "# Default settings output accuracy and classification report\n",
    "# compares accuracy for scaled and unscaled data\n",
    "def run_models(X_train: pd.DataFrame , y_train: pd.DataFrame, X_test: pd.DataFrame, y_test: pd.DataFrame):\n",
    "    \n",
    "    models = [          \n",
    "          ('Random Forest', RandomForestClassifier(random_state=2020)),\n",
    "          ('Decision Tree', DecisionTreeClassifier()),                                                 \n",
    "          ('KNN', KNeighborsClassifier()),\n",
    "          ('SVM', SVC())\n",
    "        ]  \n",
    "    \n",
    "    for name, model in models:        \n",
    "        # unscaled data\n",
    "        clf = model.fit(X_train, y_train)\n",
    "        y_pred = clf.predict(X_test)\n",
    "        \n",
    "        # scaled data\n",
    "        clf_scaled = model.fit(X_train_scaled, y_train)\n",
    "        y_pred_scaled = clf_scaled.predict(X_test_scaled)\n",
    "        \n",
    "        # mm scaled data\n",
    "        clf_mm_scaled = model.fit(X_train_mm_scaled, y_train)\n",
    "        y_pred_mm_scaled = clf_scaled.predict(X_test_mm_scaled)\n",
    "        \n",
    "        # accuracy scores\n",
    "        accuracy = round(metrics.accuracy_score(y_test, y_pred),5)\n",
    "        scaled_accuracy = round(metrics.accuracy_score(y_test, y_pred_scaled),5)\n",
    "        scaled_mm_accuracy = round(metrics.accuracy_score(y_test, y_pred_mm_scaled),5)\n",
    "        \n",
    "        # output\n",
    "        print(name + ':')        \n",
    "        print(\"---------------------------------------------------------------\")      \n",
    "        print(\"Accuracy:\", accuracy)\n",
    "        print(\"Accuracy w/Scaled Data (ss):\", scaled_accuracy)\n",
    "        print(\"Accuracy w/Scaled Data (mm):\", scaled_mm_accuracy)\n",
    "        if (accuracy > scaled_accuracy) and (accuracy > scaled_mm_accuracy):\n",
    "            print(\"\\nClassification Report:\\n\", metrics.classification_report(y_test, y_pred))      \n",
    "            print(\"                            -----------------------------------               \\n\")      \n",
    "        elif (scaled_accuracy > scaled_mm_accuracy):\n",
    "            print(\"\\nClassification Report (ss):\\n\", metrics.classification_report(y_test, y_pred_scaled))      \n",
    "            print(\"                            -----------------------------------               \\n\")     \n",
    "        else:            \n",
    "            print(\"\\nClassification Report (mm):\\n\", metrics.classification_report(y_test, y_pred_mm_scaled))      \n",
    "            print(\"                            -----------------------------------               \\n\")    "
   ]
  },
  {
   "cell_type": "code",
   "execution_count": 45,
   "id": "5cf735c7",
   "metadata": {},
   "outputs": [
    {
     "name": "stdout",
     "output_type": "stream",
     "text": [
      "Random Forest:\n",
      "---------------------------------------------------------------\n",
      "Accuracy: 0.96372\n",
      "Accuracy w/Scaled Data (ss): 0.96372\n",
      "Accuracy w/Scaled Data (mm): 0.96372\n",
      "\n",
      "Classification Report (mm):\n",
      "               precision    recall  f1-score   support\n",
      "\n",
      "           0       0.94      0.96      0.95       169\n",
      "           1       0.94      0.93      0.94       174\n",
      "           2       0.99      0.99      0.99       291\n",
      "\n",
      "    accuracy                           0.96       634\n",
      "   macro avg       0.96      0.96      0.96       634\n",
      "weighted avg       0.96      0.96      0.96       634\n",
      "\n",
      "                            -----------------------------------               \n",
      "\n",
      "Decision Tree:\n",
      "---------------------------------------------------------------\n",
      "Accuracy: 0.95741\n",
      "Accuracy w/Scaled Data (ss): 0.95899\n",
      "Accuracy w/Scaled Data (mm): 0.96215\n",
      "\n",
      "Classification Report (mm):\n",
      "               precision    recall  f1-score   support\n",
      "\n",
      "           0       0.96      0.96      0.96       169\n",
      "           1       0.95      0.91      0.93       174\n",
      "           2       0.97      1.00      0.98       291\n",
      "\n",
      "    accuracy                           0.96       634\n",
      "   macro avg       0.96      0.95      0.96       634\n",
      "weighted avg       0.96      0.96      0.96       634\n",
      "\n",
      "                            -----------------------------------               \n",
      "\n",
      "KNN:\n",
      "---------------------------------------------------------------\n",
      "Accuracy: 0.93533\n",
      "Accuracy w/Scaled Data (ss): 0.87066\n",
      "Accuracy w/Scaled Data (mm): 0.87066\n",
      "\n",
      "Classification Report:\n",
      "               precision    recall  f1-score   support\n",
      "\n",
      "           0       0.97      0.87      0.92       169\n",
      "           1       0.87      0.92      0.89       174\n",
      "           2       0.96      0.98      0.97       291\n",
      "\n",
      "    accuracy                           0.94       634\n",
      "   macro avg       0.93      0.92      0.93       634\n",
      "weighted avg       0.94      0.94      0.94       634\n",
      "\n",
      "                            -----------------------------------               \n",
      "\n",
      "SVM:\n",
      "---------------------------------------------------------------\n",
      "Accuracy: 0.83596\n",
      "Accuracy w/Scaled Data (ss): 0.92902\n",
      "Accuracy w/Scaled Data (mm): 0.92902\n",
      "\n",
      "Classification Report (mm):\n",
      "               precision    recall  f1-score   support\n",
      "\n",
      "           0       0.86      0.92      0.89       169\n",
      "           1       0.89      0.88      0.89       174\n",
      "           2       0.99      0.96      0.98       291\n",
      "\n",
      "    accuracy                           0.93       634\n",
      "   macro avg       0.92      0.92      0.92       634\n",
      "weighted avg       0.93      0.93      0.93       634\n",
      "\n",
      "                            -----------------------------------               \n",
      "\n"
     ]
    }
   ],
   "source": [
    "#run Decision Trees, Random Forest, KNN and SVM\n",
    "run_models(X_train, y_train, X_test, y_test)"
   ]
  },
  {
   "cell_type": "markdown",
   "id": "4c30a7a6",
   "metadata": {},
   "source": [
    "# Report\n",
    "\n",
    "1. we are getting maximum accuracy with Random forest model.\n",
    "2. next best model we are getting is Decision Tree"
   ]
  },
  {
   "cell_type": "markdown",
   "id": "a5b39ecc",
   "metadata": {},
   "source": [
    "## Hyperparameter Tuning"
   ]
  },
  {
   "cell_type": "code",
   "execution_count": 46,
   "id": "fddb1e9a",
   "metadata": {},
   "outputs": [],
   "source": [
    "from sklearn.model_selection import GridSearchCV\n",
    "\n",
    "#model name, classifier, parameters\n",
    "# function used to process models and parameters through gridsearch\n",
    "def hyper_tune(name, clf, parameters, target_names=None): \n",
    "    \n",
    "    target_names = target_names\n",
    "    clf = clf\n",
    "    search = GridSearchCV(clf, parameters,verbose=True, n_jobs=15, cv=5)\n",
    "    search.fit(X_train_scaled,y_train)\n",
    "    y_pred_scaled = search.predict(X_test_scaled)\n",
    "    print (\"Accuracy Score = %3.2f\" %(search.score(X_test_scaled,y_test)))\n",
    "    print (search.best_params_)\n",
    "    print(\"\\nClassification Report:\\n\", metrics.classification_report(y_test, y_pred_scaled, target_names=target_names))"
   ]
  },
  {
   "cell_type": "code",
   "execution_count": 47,
   "id": "1fdf7fde",
   "metadata": {},
   "outputs": [],
   "source": [
    "#the KNN model performs better on the unscaled data this function\n",
    "# function for unscaled data\n",
    "#model name, classifier, parameters\n",
    "# function used to process models and parameters through gridsearch\n",
    "def hyper_tune2(name, clf, parameters, target_names=None): \n",
    "    \n",
    "    target_names = target_names\n",
    "    clf = clf\n",
    "    search = GridSearchCV(clf, parameters,verbose=True, n_jobs=15, cv=5)\n",
    "    search.fit(X_train,y_train)\n",
    "    y_pred = search.predict(X_test)\n",
    "    print (\"Accuracy Score = %3.2f\" %(search.score(X_test,y_test)))\n",
    "    print (search.best_params_)\n",
    "    print(\"\\nClassification Report:\\n\", metrics.classification_report(y_test, y_pred, target_names=target_names))"
   ]
  },
  {
   "cell_type": "markdown",
   "id": "cdafc43f",
   "metadata": {},
   "source": [
    "## KNN"
   ]
  },
  {
   "cell_type": "code",
   "execution_count": 48,
   "id": "14e3ec66",
   "metadata": {},
   "outputs": [
    {
     "name": "stdout",
     "output_type": "stream",
     "text": [
      "Fitting 5 folds for each of 528 candidates, totalling 2640 fits\n",
      "Accuracy Score = 0.95\n",
      "{'algorithm': 'auto', 'metric': 'manhattan', 'n_neighbors': 4, 'p': 1, 'weights': 'distance'}\n",
      "\n",
      "Classification Report:\n",
      "               precision    recall  f1-score   support\n",
      "\n",
      "           0       0.99      0.90      0.94       169\n",
      "           1       0.89      0.94      0.91       174\n",
      "           2       0.97      0.99      0.98       291\n",
      "\n",
      "    accuracy                           0.95       634\n",
      "   macro avg       0.95      0.94      0.94       634\n",
      "weighted avg       0.95      0.95      0.95       634\n",
      "\n"
     ]
    }
   ],
   "source": [
    "# Number of neighbors\n",
    "n_neighbors = [int(x) for x in range(4, 15)]\n",
    "# weights\n",
    "weights = ['uniform','distance']\n",
    "# distance metric\n",
    "metric = ['euclidean', 'manhattan', 'chebyshev']\n",
    "# computation algorithm\n",
    "algorithm = ['auto', 'ball_tree', 'kd_tree', 'brute']\n",
    "# power paramter\n",
    "p=[1,2]\n",
    "\n",
    "parameters = { 'n_neighbors': n_neighbors,\n",
    "              'weights':weights,\n",
    "              'metric':metric,\n",
    "              'p':p,\n",
    "              'algorithm': algorithm              \n",
    "               }\n",
    "\n",
    "hyper_tune2('KNN', KNeighborsClassifier(), parameters)"
   ]
  },
  {
   "cell_type": "markdown",
   "id": "39f80887",
   "metadata": {},
   "source": [
    "## Random Forest"
   ]
  },
  {
   "cell_type": "code",
   "execution_count": 50,
   "id": "63caa069",
   "metadata": {},
   "outputs": [
    {
     "name": "stdout",
     "output_type": "stream",
     "text": [
      "Fitting 5 folds for each of 380 candidates, totalling 1900 fits\n",
      "Accuracy Score = 0.97\n",
      "{'criterion': 'entropy', 'max_depth': 40, 'n_estimators': 60}\n",
      "\n",
      "Classification Report:\n",
      "               precision    recall  f1-score   support\n",
      "\n",
      "           0       0.96      0.95      0.95       169\n",
      "           1       0.93      0.95      0.94       174\n",
      "           2       1.00      0.99      0.99       291\n",
      "\n",
      "    accuracy                           0.97       634\n",
      "   macro avg       0.96      0.96      0.96       634\n",
      "weighted avg       0.97      0.97      0.97       634\n",
      "\n"
     ]
    }
   ],
   "source": [
    "# Number of trees in random forest\n",
    "n_estimators = [int(x) for x in range(10, 200,10)]\n",
    "# Criterion\n",
    "criterion = ['gini','entropy']\n",
    "# Number of features to consider at every split\n",
    "max_features = ['auto', 'sqrt', 'log2']\n",
    "# Maximum number of levels in tree\n",
    "max_depth = [int(x) for x in range(10, 100, 10)]\n",
    "max_depth.append(None)\n",
    "# Minimum number of samples required to split a node\n",
    "min_samples_split = [int(x) for x in range(2, 5)]\n",
    "# Minimum number of samples required at each leaf node\n",
    "min_samples_leaf = [int(x) for x in range(2, 5)]\n",
    "# Method of selecting samples for training each tree\n",
    "bootstrap = [True, False]\n",
    "# random state\n",
    "random_state = [1010]\n",
    "\n",
    "parameters = { 'criterion':criterion,\n",
    "               'n_estimators': n_estimators,\n",
    "              'max_depth':max_depth,\n",
    "              #'random_state': random_state,\n",
    "              #'max_features':max_features,\n",
    "              #'min_samples_split':min_samples_split             \n",
    "               }\n",
    "\n",
    "\n",
    "hyper_tune('Random Forest',\n",
    "           RandomForestClassifier(), parameters)"
   ]
  },
  {
   "cell_type": "markdown",
   "id": "a79948b5",
   "metadata": {},
   "source": [
    "# Report\n",
    "\n",
    "1. we are getting best model after applying hyperparameter tuning in Random Forest"
   ]
  },
  {
   "cell_type": "code",
   "execution_count": null,
   "id": "d093a8f2",
   "metadata": {},
   "outputs": [],
   "source": []
  },
  {
   "cell_type": "code",
   "execution_count": null,
   "id": "a1682b01",
   "metadata": {},
   "outputs": [],
   "source": []
  },
  {
   "cell_type": "code",
   "execution_count": null,
   "id": "d28d7f21",
   "metadata": {},
   "outputs": [],
   "source": []
  }
 ],
 "metadata": {
  "kernelspec": {
   "display_name": "Python 3 (ipykernel)",
   "language": "python",
   "name": "python3"
  },
  "language_info": {
   "codemirror_mode": {
    "name": "ipython",
    "version": 3
   },
   "file_extension": ".py",
   "mimetype": "text/x-python",
   "name": "python",
   "nbconvert_exporter": "python",
   "pygments_lexer": "ipython3",
   "version": "3.10.9"
  }
 },
 "nbformat": 4,
 "nbformat_minor": 5
}
