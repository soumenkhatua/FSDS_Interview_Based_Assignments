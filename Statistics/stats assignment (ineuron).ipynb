{
 "cells": [
  {
   "cell_type": "markdown",
   "id": "d5c77d38",
   "metadata": {},
   "source": [
    "# STATISTICS"
   ]
  },
  {
   "cell_type": "markdown",
   "id": "423df56f",
   "metadata": {},
   "source": [
    "Q1. A university wants to understand the relationship between the SAT scores of its\n",
    "applicants and their college GPA. They collect data on 500 students, including their SAT\n",
    "scores (out of 1600) and their college GPA (on a 4.0 scale). They find that the correlation\n",
    "coefficient between SAT scores and college GPA is 0.7. What does this correlation\n",
    "coefficient indicate about the relationship between SAT scores and college GPA?"
   ]
  },
  {
   "cell_type": "markdown",
   "id": "f5657e2b",
   "metadata": {},
   "source": [
    "Ans. A correlation coefficient of 0.7 indicates a strong positive relationship between SAT scores and college GPA. The correlation coefficient ranges from -1 to 1, where 1 represents a perfect positive correlation, 0 represents no correlation, and -1 represents a perfect negative correlation.\n",
    "\n",
    "In this case, a correlation coefficient of 0.7 suggests that as SAT scores increase, college GPA tends to increase as well. The positive sign indicates that the relationship is direct, meaning higher SAT scores are associated with higher college GPAs.\n",
    "\n",
    "It's important to note that correlation does not imply causation. While there is a strong correlation between SAT scores and college GPA, it does not necessarily mean that higher SAT scores cause higher GPAs or vice versa. Other factors, such as study habits, motivation, and personal characteristics, could also influence college performance."
   ]
  },
  {
   "cell_type": "markdown",
   "id": "01064df2",
   "metadata": {},
   "source": [
    "Q2. . Consider a dataset containing the heights (in centimeters) of 1000 individuals. The\n",
    "mean height is 170 cm with a standard deviation of 10 cm. The dataset is approximately\n",
    "normally distributed, and its skewness is approximately zero. Based on this information,\n",
    "answer the following questions:\n",
    "1. What percentage of individuals in the dataset have heights between 160 cm\n",
    "and 180 cm?\n",
    "2. If we randomly select 100 individuals from the dataset, what is the probability\n",
    "that their average height is greater than 175 cm?\n",
    "3. Assuming the dataset follows a normal distribution, what is the z-score\n",
    "corresponding to a height of 185 cm?\n",
    "4. We know that 5% of the dataset has heights below a certain value. What is\n",
    "the approximate height corresponding to this threshold?\n",
    "5. Calculate the coefficient of variation (CV) for the dataset.\n",
    "6. Calculate the skewness of the dataset and interpret the result"
   ]
  },
  {
   "cell_type": "code",
   "execution_count": 63,
   "id": "5129cff5",
   "metadata": {},
   "outputs": [
    {
     "name": "stdout",
     "output_type": "stream",
     "text": [
      "The percentage of individuals with heights between 160 cm and 180 cm is approximately: 68.26894921370858%\n"
     ]
    }
   ],
   "source": [
    "#ans 2.1\n",
    "import scipy.stats as stats\n",
    "\n",
    "mean = 170\n",
    "std_dev = 10\n",
    "\n",
    "percentage = (stats.norm.cdf(180, mean, std_dev) - stats.norm.cdf(160, mean, std_dev)) * 100\n",
    "print(f\"The percentage of individuals with heights between 160 cm and 180 cm is approximately: {percentage}%\")\n"
   ]
  },
  {
   "cell_type": "code",
   "execution_count": 64,
   "id": "bb661f21",
   "metadata": {},
   "outputs": [
    {
     "name": "stdout",
     "output_type": "stream",
     "text": [
      "The probability that the average height of 100 individuals is greater than 175 cm is approximately: 2.866515719235352e-07\n"
     ]
    }
   ],
   "source": [
    "#ans 2.2\n",
    "import scipy.stats as stats\n",
    "\n",
    "sample_size = 100\n",
    "sample_mean = mean\n",
    "sample_std_dev = std_dev / (sample_size ** 0.5)\n",
    "\n",
    "probability = 1 - stats.norm.cdf(175, sample_mean, sample_std_dev)\n",
    "print(f\"The probability that the average height of 100 individuals is greater than 175 cm is approximately: {probability}\")"
   ]
  },
  {
   "cell_type": "code",
   "execution_count": 65,
   "id": "9de11c47",
   "metadata": {},
   "outputs": [
    {
     "name": "stdout",
     "output_type": "stream",
     "text": [
      "The z-score corresponding to a height of 185 cm is approximately: 1.5\n"
     ]
    }
   ],
   "source": [
    "#ans 2.3\n",
    "z_score = (185 - mean) / std_dev\n",
    "print(f\"The z-score corresponding to a height of 185 cm is approximately: {z_score}\")"
   ]
  },
  {
   "cell_type": "code",
   "execution_count": 66,
   "id": "c2ff60a3",
   "metadata": {},
   "outputs": [
    {
     "name": "stdout",
     "output_type": "stream",
     "text": [
      "The approximate height corresponding to the threshold of 5% is: 153.55146373048527 cm\n"
     ]
    }
   ],
   "source": [
    "#ans 2.4\n",
    "height = stats.norm.ppf(0.05, mean, std_dev)\n",
    "print(f\"The approximate height corresponding to the threshold of 5% is: {height} cm\")"
   ]
  },
  {
   "cell_type": "code",
   "execution_count": 67,
   "id": "57b6eb93",
   "metadata": {},
   "outputs": [
    {
     "name": "stdout",
     "output_type": "stream",
     "text": [
      "The coefficient of variation (CV) for the dataset is approximately: 5.88235294117647%\n"
     ]
    }
   ],
   "source": [
    "#ans 2.5\n",
    "cv = (std_dev / mean) * 100\n",
    "print(f\"The coefficient of variation (CV) for the dataset is approximately: {cv}%\")"
   ]
  },
  {
   "cell_type": "markdown",
   "id": "7f24983a",
   "metadata": {},
   "source": [
    "#ans 2.6\n",
    "a skewness value close to zero, it suggests that the heights of the individuals are approximately normally distributed and symmetric."
   ]
  },
  {
   "cell_type": "markdown",
   "id": "91924268",
   "metadata": {},
   "source": [
    "Q3.  Consider the ‘Blood Pressure Before’ and ‘Blood Pressure After’ columns from the\n",
    "data and calculate the following\n",
    "\n",
    "https://drive.google.com/file/d/1mCjtYHiX--mMUjicuaP2gH3k-SnFxt8Y/view?usp=share_\n",
    "1. Measure the dispersion in both and interpret the results.\n",
    "2. Calculate mean and 5% confidence interval and plot it in a graph\n",
    "3. Calculate the Mean absolute deviation and Standard deviation and interpret\n",
    "the results.\n",
    "4. Calculate the correlation coefficient and check the significance of it at 1% level\n",
    "of significance.\n"
   ]
  },
  {
   "cell_type": "code",
   "execution_count": 57,
   "id": "bb522e6e",
   "metadata": {},
   "outputs": [],
   "source": [
    "import pandas as pd\n",
    "df = pd.read_csv('data.csv')"
   ]
  },
  {
   "cell_type": "code",
   "execution_count": 58,
   "id": "41facf2f",
   "metadata": {},
   "outputs": [
    {
     "data": {
      "text/html": [
       "<div>\n",
       "<style scoped>\n",
       "    .dataframe tbody tr th:only-of-type {\n",
       "        vertical-align: middle;\n",
       "    }\n",
       "\n",
       "    .dataframe tbody tr th {\n",
       "        vertical-align: top;\n",
       "    }\n",
       "\n",
       "    .dataframe thead th {\n",
       "        text-align: right;\n",
       "    }\n",
       "</style>\n",
       "<table border=\"1\" class=\"dataframe\">\n",
       "  <thead>\n",
       "    <tr style=\"text-align: right;\">\n",
       "      <th></th>\n",
       "      <th>Patient ID</th>\n",
       "      <th>Blood Pressure Before (mmHg)</th>\n",
       "      <th>Blood Pressure After (mmHg)</th>\n",
       "    </tr>\n",
       "  </thead>\n",
       "  <tbody>\n",
       "    <tr>\n",
       "      <th>0</th>\n",
       "      <td>1</td>\n",
       "      <td>130</td>\n",
       "      <td>120</td>\n",
       "    </tr>\n",
       "    <tr>\n",
       "      <th>1</th>\n",
       "      <td>2</td>\n",
       "      <td>142</td>\n",
       "      <td>135</td>\n",
       "    </tr>\n",
       "    <tr>\n",
       "      <th>2</th>\n",
       "      <td>3</td>\n",
       "      <td>120</td>\n",
       "      <td>118</td>\n",
       "    </tr>\n",
       "    <tr>\n",
       "      <th>3</th>\n",
       "      <td>4</td>\n",
       "      <td>135</td>\n",
       "      <td>127</td>\n",
       "    </tr>\n",
       "    <tr>\n",
       "      <th>4</th>\n",
       "      <td>5</td>\n",
       "      <td>148</td>\n",
       "      <td>140</td>\n",
       "    </tr>\n",
       "  </tbody>\n",
       "</table>\n",
       "</div>"
      ],
      "text/plain": [
       "   Patient ID   Blood Pressure Before (mmHg)   Blood Pressure After (mmHg)\n",
       "0           1                            130                           120\n",
       "1           2                            142                           135\n",
       "2           3                            120                           118\n",
       "3           4                            135                           127\n",
       "4           5                            148                           140"
      ]
     },
     "execution_count": 58,
     "metadata": {},
     "output_type": "execute_result"
    }
   ],
   "source": [
    "df.head()"
   ]
  },
  {
   "cell_type": "code",
   "execution_count": 59,
   "id": "f6d7ef67",
   "metadata": {},
   "outputs": [
    {
     "data": {
      "text/plain": [
       "Index(['Patient ID', ' Blood Pressure Before (mmHg)',\n",
       "       ' Blood Pressure After (mmHg)'],\n",
       "      dtype='object')"
      ]
     },
     "execution_count": 59,
     "metadata": {},
     "output_type": "execute_result"
    }
   ],
   "source": [
    "df.columns"
   ]
  },
  {
   "cell_type": "code",
   "execution_count": 7,
   "id": "80c54a24",
   "metadata": {},
   "outputs": [
    {
     "name": "stdout",
     "output_type": "stream",
     "text": [
      "variance of blood pressure before is 43.53727272727273\n",
      "variance of blood pressure after is 47.444848484848485\n"
     ]
    }
   ],
   "source": [
    "#Measure the dispersion in both and interpret the results.\n",
    "from statistics import variance\n",
    "bloodpressurebefore = df[' Blood Pressure Before (mmHg)']\n",
    "bloodpressureafter = df[' Blood Pressure After (mmHg)']\n",
    "print('variance of blood pressure before is % s' %(variance(bloodpressurebefore)))\n",
    "print('variance of blood pressure after is % s' %(variance(bloodpressureafter)))"
   ]
  },
  {
   "cell_type": "code",
   "execution_count": 14,
   "id": "4685f306",
   "metadata": {},
   "outputs": [
    {
     "name": "stderr",
     "output_type": "stream",
     "text": [
      "C:\\Users\\kundan Gupta\\anaconda3\\lib\\site-packages\\numpy\\core\\fromnumeric.py:3430: FutureWarning: In a future version, DataFrame.mean(axis=None) will return a scalar mean over the entire DataFrame. To retain the old behavior, use 'frame.mean(axis=0)' or just 'frame.mean()'\n",
      "  return mean(axis=axis, dtype=dtype, out=out, **kwargs)\n"
     ]
    },
    {
     "name": "stdout",
     "output_type": "stream",
     "text": [
      "Mean: Patient ID                        50.50\n",
      " Blood Pressure Before (mmHg)    133.91\n",
      " Blood Pressure After (mmHg)     128.36\n",
      "dtype: float64\n",
      "Confidence Interval (95%): (array([ 44.74349058, 132.60075849, 126.99326698]), array([ 56.25650942, 135.21924151, 129.72673302]))\n"
     ]
    },
    {
     "data": {
      "image/png": "[encoded data removed]",
      "text/plain": [
       "<Figure size 640x480 with 1 Axes>"
      ]
     },
     "metadata": {},
     "output_type": "display_data"
    }
   ],
   "source": [
    "#Calculate mean and 5% confidence interval and plot it in a graph\n",
    "import numpy as np\n",
    "import matplotlib.pyplot as plt\n",
    "from scipy import stats\n",
    "mean = np.mean(df)\n",
    "confidence_interval = stats.t.interval(0.95, len(df) - 1, loc=mean, scale=stats.sem(df))\n",
    "print(\"Mean:\", mean)\n",
    "print(\"Confidence Interval (95%):\", confidence_interval)\n",
    "#plotting in a bar graph\n",
    "plt.figure()\n",
    "plt.bar(x=1, height=mean, color='red')\n",
    "plt.xticks([])\n",
    "plt.xlim(0.5, 1.5)\n",
    "plt.ylabel(\"Values\")\n",
    "plt.title(\"Mean and 5% Confidence Interval\")\n",
    "plt.show()"
   ]
  },
  {
   "cell_type": "code",
   "execution_count": 16,
   "id": "8669ec82",
   "metadata": {},
   "outputs": [
    {
     "name": "stdout",
     "output_type": "stream",
     "text": [
      "Mean Absolute Deviation (MAD): Patient ID                       25.0000\n",
      " Blood Pressure Before (mmHg)     5.7118\n",
      " Blood Pressure After (mmHg)      5.9000\n",
      "dtype: float64\n",
      "Standard Deviation (SD): Patient ID                       28.866070\n",
      " Blood Pressure Before (mmHg)     6.565204\n",
      " Blood Pressure After (mmHg)      6.853495\n",
      "dtype: float64\n"
     ]
    },
    {
     "name": "stderr",
     "output_type": "stream",
     "text": [
      "C:\\Users\\kundan Gupta\\anaconda3\\lib\\site-packages\\numpy\\core\\fromnumeric.py:3430: FutureWarning: In a future version, DataFrame.mean(axis=None) will return a scalar mean over the entire DataFrame. To retain the old behavior, use 'frame.mean(axis=0)' or just 'frame.mean()'\n",
      "  return mean(axis=axis, dtype=dtype, out=out, **kwargs)\n",
      "C:\\Users\\kundan Gupta\\anaconda3\\lib\\site-packages\\numpy\\core\\fromnumeric.py:3430: FutureWarning: In a future version, DataFrame.mean(axis=None) will return a scalar mean over the entire DataFrame. To retain the old behavior, use 'frame.mean(axis=0)' or just 'frame.mean()'\n",
      "  return mean(axis=axis, dtype=dtype, out=out, **kwargs)\n"
     ]
    }
   ],
   "source": [
    "#Calculate the Mean absolute deviation and Standard deviation and interpret the results.\n",
    "# Calculate the Mean Absolute Deviation (MAD)\n",
    "mad = np.mean(np.abs(df - np.mean(df)))\n",
    "\n",
    "# Calculate the Standard Deviation (SD)\n",
    "sd = np.std(df)\n",
    "\n",
    "# Print the results\n",
    "print(\"Mean Absolute Deviation (MAD):\", mad)\n",
    "print(\"Standard Deviation (SD):\", sd)"
   ]
  },
  {
   "cell_type": "markdown",
   "id": "669029d5",
   "metadata": {},
   "source": [
    "## interpreting the results of above code\n",
    "\n",
    "1. For the Patient ID, both MAD and SD indicate the absolute average deviation or dispersion of the patient IDs around the mean value of 25. These values don't carry much meaning in this context as patient IDs are typically categorical or unique identifiers rather than numerical measurements.\n",
    "\n",
    "2. Regarding the Blood Pressure Before and Blood Pressure After measurements, both MAD and SD provide an estimate of the average deviation or spread of the blood pressure values from their respective means. The MAD values of 5.7118 (before) and 5.9000 (after) indicate that, on average, the blood pressure measurements deviate by approximately these amounts from their respective means. Similarly, the SD values of 6.565204 (before) and 6.853495 (after) provide a measure of the overall variability or dispersion of the blood pressure measurements."
   ]
  },
  {
   "cell_type": "code",
   "execution_count": 18,
   "id": "55b089f7",
   "metadata": {},
   "outputs": [
    {
     "name": "stdout",
     "output_type": "stream",
     "text": [
      "Correlation Coefficient: 0.9779485966556019\n",
      "p-value: 1.8097381433068541e-68\n",
      "The correlation coefficient is significant at the 1% level.\n"
     ]
    }
   ],
   "source": [
    "#Calculate the correlation coefficient and check the significance of it at 1% level of significance.\n",
    "\n",
    "# Select the two variables/columns for correlation\n",
    "variable1 = df[' Blood Pressure Before (mmHg)']\n",
    "variable2 = df[' Blood Pressure After (mmHg)']\n",
    "\n",
    "# Calculate the correlation coefficient and p-value\n",
    "correlation_coefficient, p_value = stats.pearsonr(variable1, variable2)\n",
    "\n",
    "# Print the correlation coefficient and p-value\n",
    "print(\"Correlation Coefficient:\", correlation_coefficient)\n",
    "print(\"p-value:\", p_value)\n",
    "\n",
    "# Check the significance at 1% level\n",
    "if p_value < 0.01:\n",
    "    print(\"The correlation coefficient is significant at the 1% level.\")\n",
    "else:\n",
    "    print(\"The correlation coefficient is not significant at the 1% level.\")"
   ]
  },
  {
   "cell_type": "markdown",
   "id": "5068dcf4",
   "metadata": {},
   "source": [
    "Q4.  A group of 20 friends decide to play a game in which they each write a number\n",
    "between 1 and 20 on a slip of paper and put it into a hat. They then draw one slip of paper\n",
    "at random. What is the probability that the number on the slip of paper is a perfect square\n",
    "(i.e., 1, 4, 9, or 16)?"
   ]
  },
  {
   "cell_type": "markdown",
   "id": "48c5d2fd",
   "metadata": {},
   "source": [
    "Ans.4 #In this case, the total number of possible outcomes is 20, as there are 20 slips of paper in the hat, each containing a number from 1 to 20.\n",
    "\n"
   ]
  },
  {
   "cell_type": "code",
   "execution_count": 19,
   "id": "d8e475e6",
   "metadata": {},
   "outputs": [
    {
     "name": "stdout",
     "output_type": "stream",
     "text": [
      "The probability of drawing a perfect square number is: 0.2\n"
     ]
    }
   ],
   "source": [
    "# Total number of possible outcomes\n",
    "total_outcomes = 20\n",
    "\n",
    "# Number of favorable outcomes (perfect square numbers)\n",
    "favorable_outcomes = 4\n",
    "\n",
    "# Calculate the probability\n",
    "probability = favorable_outcomes / total_outcomes\n",
    "\n",
    "# Print the probability\n",
    "print(\"The probability of drawing a perfect square number is:\", probability)"
   ]
  },
  {
   "cell_type": "markdown",
   "id": "2f61c28f",
   "metadata": {},
   "source": [
    "Q5. A certain city has two taxi companies: Company A has 80% of the taxis and\n",
    "Company B has 20% of the taxis. Company A's taxis have a 95% success rate for picking\n",
    "up passengers on time, while Company B's taxis have a 90% success rate. If a randomly\n",
    "selected taxi is late, what is the probability that it belongs to Company A?\n"
   ]
  },
  {
   "cell_type": "code",
   "execution_count": 21,
   "id": "b929cb70",
   "metadata": {},
   "outputs": [
    {
     "name": "stdout",
     "output_type": "stream",
     "text": [
      "The probability that a randomly selected late taxi belongs to Company A: 0.6666666666666667\n"
     ]
    }
   ],
   "source": [
    "#P(A) = 0.8 (Company A has 80% of the taxis)\n",
    "#P(B|A) = 0.05 (Company A's taxis have a 95% success rate, so the probability of being late is 1 - 0.95 = 0.05)\n",
    "#P(B|B) = 0.10 (Company B's taxis have a 90% success rate, so the probability of being late is 1 - 0.90 = 0.10)\n",
    "#Given probabilities\n",
    "P_A = 0.8\n",
    "P_B_given_A = 0.05\n",
    "P_B_given_B = 0.10\n",
    "\n",
    "# Calculate P(B)\n",
    "P_B = P_B_given_A * P_A + P_B_given_B * (1 - P_A)\n",
    "\n",
    "# Calculate P(A|B)\n",
    "P_A_given_B = (P_B_given_A * P_A) / P_B\n",
    "\n",
    "# Print the result\n",
    "print(\"The probability that a randomly selected late taxi belongs to Company A:\", P_A_given_B)"
   ]
  },
  {
   "cell_type": "markdown",
   "id": "173325aa",
   "metadata": {},
   "source": [
    "Q6. A pharmaceutical company is developing a drug that is supposed to reduce blood\n",
    "pressure. They conduct a clinical trial with 100 patients and record their blood\n",
    "pressure before and after taking the drug. The company wants to know if the change\n",
    "in blood pressure follows a normal distribution.\n",
    "\n",
    "https://drive.google.com/file/d/1mCjtYHiX--mMUjicuaP2gH3k-SnFxt8Y/view?usp=share_\n"
   ]
  },
  {
   "cell_type": "code",
   "execution_count": 24,
   "id": "b1fc9f69",
   "metadata": {},
   "outputs": [
    {
     "data": {
      "image/png": "[encoded data removed]",
      "text/plain": [
       "<Figure size 640x480 with 1 Axes>"
      ]
     },
     "metadata": {},
     "output_type": "display_data"
    }
   ],
   "source": [
    "# Calculate the change in blood pressure\n",
    "change_in_bp =df[' Blood Pressure After (mmHg)'] - df[' Blood Pressure Before (mmHg)']\n",
    "\n",
    "# Plot a histogram of the change in blood pressure\n",
    "plt.hist(change_in_bp, bins=10, edgecolor='black')\n",
    "plt.xlabel(\"Change in Blood Pressure (mmHg)\")\n",
    "plt.ylabel(\"Frequency\")\n",
    "plt.title(\"Distribution of Change in Blood Pressure\")\n",
    "plt.show()"
   ]
  },
  {
   "cell_type": "code",
   "execution_count": 25,
   "id": "f28b8dee",
   "metadata": {},
   "outputs": [
    {
     "name": "stdout",
     "output_type": "stream",
     "text": [
      "Shapiro-Wilk test statistic: 0.9538203477859497\n",
      "p-value: 0.0014939684187993407\n"
     ]
    }
   ],
   "source": [
    "from scipy.stats import shapiro\n",
    "\n",
    "# Perform Shapiro-Wilk test for normality\n",
    "statistic, p_value = shapiro(change_in_bp)\n",
    "\n",
    "# Print the test statistic and p-value\n",
    "print(\"Shapiro-Wilk test statistic:\", statistic)\n",
    "print(\"p-value:\", p_value)"
   ]
  },
  {
   "cell_type": "markdown",
   "id": "0ea96b08",
   "metadata": {},
   "source": [
    "#### Since the p-value (0.0015) is less than the typical significance level of 0.05, we reject the null hypothesis that the data follows a normal distribution. This suggests that the change in blood pressure in the clinical trial does not follow a normal distribution."
   ]
  },
  {
   "cell_type": "markdown",
   "id": "a03e6e78",
   "metadata": {},
   "source": [
    "Q7. The equations of two lines of regression, obtained in a correlation analysis\n",
    "between variables X and Y are as follows:\n",
    "and . 2𝑋 + 3 − 8 = 0 2𝑌 + 𝑋 − 5 = 0 The variance of 𝑋 = 4 Find the\n",
    "1. Variance of Y\n",
    "2. Coefficient of determination of C and Y\n",
    "3. Standard error of estimate of X on Y and of Y on X.\n"
   ]
  },
  {
   "cell_type": "markdown",
   "id": "27d7f50b",
   "metadata": {},
   "source": [
    "Q8. The anxiety levels of 10 participants were measured before and after a new therapy.\n",
    "The scores are not normally distributed. Use the Wilcoxon signed-rank test to test whether\n",
    "the therapy had a significant effect on anxiety levels. The data is given below: Participant\n",
    "Before therapy After therapy Difference\n",
    "\n"
   ]
  },
  {
   "cell_type": "code",
   "execution_count": 48,
   "id": "08a32ad0",
   "metadata": {},
   "outputs": [
    {
     "name": "stdout",
     "output_type": "stream",
     "text": [
      "   Participant  Before therapy  After therapy  Difference\n",
      "0            1              10              7          -3\n",
      "1            2               8              6          -2\n",
      "2            3              12             10          -2\n",
      "3            4              15             12          -3\n",
      "4            5               6              5          -1\n",
      "5            6               9              8          -1\n",
      "6            7              11              9          -2\n",
      "7            8               7              6          -1\n",
      "8            9              14             12          -2\n",
      "9           10              10              8          -2\n"
     ]
    }
   ],
   "source": [
    "# creating data frame\n",
    "import pandas as pd\n",
    "\n",
    "# Create a dictionary with the data\n",
    "data = {\n",
    "    'Participant': [1, 2, 3, 4, 5, 6, 7, 8, 9, 10],\n",
    "    'Before therapy': [10, 8, 12, 15, 6, 9, 11, 7, 14, 10],\n",
    "    'After therapy': [7, 6, 10, 12, 5, 8, 9, 6, 12, 8],\n",
    "    'Difference': [-1, -1, -1, -1, -1, -1, -1, -1, -1, -1]\n",
    "}\n",
    "\n",
    "# Create a DataFrame from the dictionary\n",
    "df1= pd.DataFrame(data)\n",
    "\n",
    "# Calculate the difference\n",
    "df1['Difference'] = df1['After therapy'] - df1['Before therapy']\n",
    "\n",
    "# Print the DataFrame\n",
    "print(df1)"
   ]
  },
  {
   "cell_type": "code",
   "execution_count": 49,
   "id": "885671b7",
   "metadata": {},
   "outputs": [
    {
     "name": "stdout",
     "output_type": "stream",
     "text": [
      "Wilcoxon signed-rank test statistic: 0.0\n",
      "p-value: 0.001953125\n"
     ]
    }
   ],
   "source": [
    "from scipy.stats import wilcoxon\n",
    "\n",
    "# Perform Wilcoxon signed-rank test\n",
    "statistic, p_value = wilcoxon(df1['Before therapy'], df1['After therapy'])\n",
    "\n",
    "# Print the test statistic and p-value\n",
    "print(\"Wilcoxon signed-rank test statistic:\", statistic)\n",
    "print(\"p-value:\", p_value)"
   ]
  },
  {
   "cell_type": "markdown",
   "id": "487528f5",
   "metadata": {},
   "source": [
    "### interpreting the results\n",
    "\n",
    "Since the p-value (0.0019) is less than the typical significance level of 0.05, we can conclude that the therapy had a significant effect on anxiety levels. This indicates that there is a statistically significant difference between the anxiety levels before and after the therapy.\n",
    "\n",
    "In summary, the Wilcoxon signed-rank test suggests that the therapy had a significant positive effect on reducing anxiety levels."
   ]
  },
  {
   "cell_type": "markdown",
   "id": "42b32ed6",
   "metadata": {},
   "source": [
    "Q9. . Given the score of students in multiple exams\n",
    "Test the hypothesis that the mean scores of all the students are the same. If not, name the\n",
    "student with the highest score.\n"
   ]
  },
  {
   "cell_type": "code",
   "execution_count": 51,
   "id": "dc34c475",
   "metadata": {},
   "outputs": [
    {
     "name": "stdout",
     "output_type": "stream",
     "text": [
      "      Name  Exam 1  Exam 2  Final Exam\n",
      "0    Karan      85      90          92\n",
      "1    Deepa      70      80          85\n",
      "2  Karthik      90      85          88\n",
      "3  Chandan      75      70          75\n",
      "4   Jeevan      95      92          96\n"
     ]
    }
   ],
   "source": [
    "# creating data frame\n",
    "import pandas as pd\n",
    "\n",
    "# Create a dictionary with the data\n",
    "data = {\n",
    "    'Name': ['Karan', 'Deepa', 'Karthik', 'Chandan', 'Jeevan'],\n",
    "    'Exam 1': [85, 70, 90, 75, 95],\n",
    "    'Exam 2': [90, 80, 85, 70, 92],\n",
    "    'Final Exam': [92, 85, 88, 75, 96]\n",
    "}\n",
    "\n",
    "# Create a DataFrame from the dictionary\n",
    "df2= pd.DataFrame(data)\n",
    "\n",
    "# Print the DataFrame\n",
    "print(df2)"
   ]
  },
  {
   "cell_type": "code",
   "execution_count": 52,
   "id": "c5c8436d",
   "metadata": {},
   "outputs": [
    {
     "name": "stdout",
     "output_type": "stream",
     "text": [
      "F-statistic: 0.3236947791164659\n",
      "p-value: 0.7295954253321559\n",
      "Student with the highest score: Jeevan\n"
     ]
    }
   ],
   "source": [
    "import scipy.stats as stats\n",
    "\n",
    "# Perform one-way ANOVA\n",
    "f_statistic, p_value = stats.f_oneway(df2['Exam 1'], df2['Exam 2'], df2['Final Exam'])\n",
    "\n",
    "# Print the F-statistic and p-value\n",
    "print(\"F-statistic:\", f_statistic)\n",
    "print(\"p-value:\", p_value)\n",
    "\n",
    "# Calculate the maximum score for each student\n",
    "df2['Max Score'] = df2[['Exam 1', 'Exam 2', 'Final Exam']].max(axis=1)\n",
    "\n",
    "# Sort the DataFrame by the maximum score in descending order\n",
    "sorted_df2 = df2.sort_values(by='Max Score', ascending=False)\n",
    "\n",
    "# Get the student with the highest score\n",
    "highest_score_student = sorted_df2.iloc[0]['Name']\n",
    "\n",
    "# Print the student with the highest score\n",
    "print(\"Student with the highest score:\", highest_score_student)"
   ]
  },
  {
   "cell_type": "markdown",
   "id": "e9014a6f",
   "metadata": {},
   "source": [
    "Q10. A factory produces light bulbs, and the probability of a bulb being defective is 0.05.\n",
    "The factory produces a large batch of 500 light bulbs.\n",
    "1. What is the probability that exactly 20 bulbs are defective?\n",
    "2. What is the probability that at least 10 bulbs are defective?\n",
    "3. What is the probability that at max 15 bulbs are defective?\n",
    "4. On average, how many defective bulbs would you expect in a batch of 500?\n"
   ]
  },
  {
   "cell_type": "code",
   "execution_count": 37,
   "id": "25d29886",
   "metadata": {},
   "outputs": [
    {
     "name": "stdout",
     "output_type": "stream",
     "text": [
      "Probability of exactly 20 bulbs being defective: 0.0483661403058116\n"
     ]
    }
   ],
   "source": [
    "#ans 10.1\n",
    "import scipy.stats as stats\n",
    "import math\n",
    "\n",
    "n = 500\n",
    "p = 0.05\n",
    "k = 20\n",
    "\n",
    "mean = n * p\n",
    "std_dev = math.sqrt(n * p * (1 - p))\n",
    "\n",
    "probability_20_defective = stats.norm.cdf(k + 0.5, loc=mean, scale=std_dev) - stats.norm.cdf(k - 0.5, loc=mean, scale=std_dev)\n",
    "print(\"Probability of exactly 20 bulbs being defective:\", probability_20_defective)"
   ]
  },
  {
   "cell_type": "code",
   "execution_count": 38,
   "id": "62881b46",
   "metadata": {},
   "outputs": [
    {
     "name": "stdout",
     "output_type": "stream",
     "text": [
      "Probability of at least 10 bulbs being defective: 0.9992649777488151\n"
     ]
    }
   ],
   "source": [
    "#ans 10.2\n",
    "k = 10\n",
    "\n",
    "probability_at_least_10_defective = stats.norm.sf(k - 0.5, loc=mean, scale=std_dev)\n",
    "print(\"Probability of at least 10 bulbs being defective:\", probability_at_least_10_defective)"
   ]
  },
  {
   "cell_type": "code",
   "execution_count": 39,
   "id": "7b256b7c",
   "metadata": {},
   "outputs": [
    {
     "name": "stdout",
     "output_type": "stream",
     "text": [
      "Probability of at most 15 bulbs being defective: 0.025626291428684733\n"
     ]
    }
   ],
   "source": [
    "#ans 10.3\n",
    "k = 15\n",
    "\n",
    "probability_at_most_15_defective = stats.norm.cdf(k + 0.5, loc=mean, scale=std_dev)\n",
    "print(\"Probability of at most 15 bulbs being defective:\", probability_at_most_15_defective)"
   ]
  },
  {
   "cell_type": "code",
   "execution_count": 40,
   "id": "8b540671",
   "metadata": {},
   "outputs": [
    {
     "name": "stdout",
     "output_type": "stream",
     "text": [
      "Expected number of defective bulbs: 25.0\n"
     ]
    }
   ],
   "source": [
    "#ans 10.4\n",
    "expected_defective_bulbs = n * p\n",
    "print(\"Expected number of defective bulbs:\", expected_defective_bulbs)"
   ]
  },
  {
   "cell_type": "markdown",
   "id": "1e04d384",
   "metadata": {},
   "source": [
    "Q11. . Given the data of a feature contributing to different classes\n",
    "\n",
    "https://drive.google.com/file/d/1mCjtYHiX--mMUjicuaP2gH3k-SnFxt8Y/view?usp\n",
    "=share_\n",
    "1. Check whether the distribution of all the classes are the same or not.\n",
    "2. Check for the equality of variance/\n",
    "3. Which amount LDA and QDA would perform better on this data for\n",
    "classification and why.\n",
    "4. Check the equality of mean for between all the classes.\n"
   ]
  },
  {
   "cell_type": "code",
   "execution_count": 60,
   "id": "8dd59ae5",
   "metadata": {},
   "outputs": [
    {
     "name": "stdout",
     "output_type": "stream",
     "text": [
      "Column Names: Index(['Patient ID', ' Blood Pressure Before (mmHg)',\n",
      "       ' Blood Pressure After (mmHg)'],\n",
      "      dtype='object')\n",
      "Class Distribution:\n",
      " 128    12\n",
      "127    11\n",
      "136    11\n",
      "135     8\n",
      "130     7\n",
      "145     6\n",
      "139     6\n",
      "143     6\n",
      "124     6\n",
      "140     6\n",
      "132     6\n",
      "142     6\n",
      "131     5\n",
      "137     1\n",
      "122     1\n",
      "148     1\n",
      "120     1\n",
      "Name:  Blood Pressure Before (mmHg), dtype: int64\n",
      "Variance - Before:  43.53727272727271\n",
      "Variance - After:  47.4448484848485\n",
      "Mean - Before:  133.91\n",
      "Mean - After:  128.36\n"
     ]
    }
   ],
   "source": [
    "#ans 11\n",
    "# Print the column names\n",
    "print(\"Column Names:\", df.columns)\n",
    "\n",
    "# Check the distribution of all the classes (in this case, it's the before and after blood pressure measurements)\n",
    "class_distribution = df[' Blood Pressure Before (mmHg)'].value_counts()\n",
    "print(\"Class Distribution:\\n\", class_distribution)\n",
    "\n",
    "# Check for the equality of variance\n",
    "variance_before = df[' Blood Pressure Before (mmHg)'].var()\n",
    "variance_after = df[' Blood Pressure After (mmHg)'].var()\n",
    "print(\"Variance - Before: \", variance_before)\n",
    "print(\"Variance - After: \", variance_after)\n",
    "\n",
    "# Perform LDA and QDA\n",
    "# LDA assumes equal class covariance matrices and uses linear decision boundaries\n",
    "# QDA relaxes the assumption of equal class covariance matrices and uses quadratic decision boundaries\n",
    "\n",
    "# Check the equality of mean between all the classes\n",
    "mean_before = df[' Blood Pressure Before (mmHg)'].mean()\n",
    "mean_after = df[' Blood Pressure After (mmHg)'].mean()\n",
    "print(\"Mean - Before: \", mean_before)\n",
    "print(\"Mean - After: \", mean_after)"
   ]
  },
  {
   "cell_type": "markdown",
   "id": "fdddb315",
   "metadata": {},
   "source": [
    "Q12. A pharmaceutical company develops a new drug and wants to compare its\n",
    "effectiveness against a standard drug for treating a particular condition. They conduct a\n",
    "study with two groups: Group A receives the new drug, and Group B receives the standard\n",
    "drug. The company measures the improvement in a specific symptom for both groups after\n",
    "a 4-week treatment period.\n",
    "1. The company collects data from 30 patients in each group and calculates the\n",
    "mean improvement score and the standard deviation of improvement for each\n",
    "group. The mean improvement score for Group A is 2.5 with a standard\n",
    "deviation of 0.8, while the mean improvement score for Group B is 2.2 with a\n",
    "standard deviation of 0.6. Conduct a t-test to determine if there is a significant\n",
    "difference in the mean improvement scores between the two groups. Use a\n",
    "significance level of 0.05.\n",
    "2. Based on the t-test results, state whether the null hypothesis should be\n",
    "rejected or not. Provide a conclusion in the context of the study."
   ]
  },
  {
   "cell_type": "code",
   "execution_count": 62,
   "id": "f09946e7",
   "metadata": {},
   "outputs": [
    {
     "name": "stdout",
     "output_type": "stream",
     "text": [
      "Reject the null hypothesis. There is a significant difference in the mean improvement scores between Group A and Group B.\n"
     ]
    }
   ],
   "source": [
    "#ans 12\n",
    "import scipy.stats as stats\n",
    "\n",
    "# Given data\n",
    "meanA = 2.5\n",
    "stdDevA = 0.8\n",
    "nA = 30\n",
    "\n",
    "meanB = 2.2\n",
    "stdDevB = 0.6\n",
    "nB = 30\n",
    "\n",
    "# Calculate the test statistic (t-value)\n",
    "squaredDevA = stdDevA ** 2\n",
    "squaredDevB = stdDevB ** 2\n",
    "t = (meanA - meanB) / ((squaredDevA / nA) + (squaredDevB / nB)) ** 0.5\n",
    "\n",
    "# Calculate the degrees of freedom\n",
    "df = nA + nB - 2\n",
    "\n",
    "# Calculate the critical t-value for a two-tailed test at 0.05 significance level\n",
    "critical_t = stats.t.ppf(0.025, df)\n",
    "\n",
    "# Compare the calculated t-value with the critical t-value\n",
    "if t > critical_t:\n",
    "    conclusion = \"Reject the null hypothesis. There is a significant difference in the mean improvement scores between Group A and Group B.\"\n",
    "else:\n",
    "    conclusion = \"Fail to reject the null hypothesis. There is no significant difference in the mean improvement scores between Group A and Group B.\"\n",
    "\n",
    "# Print the conclusion\n",
    "print(conclusion)"
   ]
  },
  {
   "cell_type": "code",
   "execution_count": null,
   "id": "9e0bac6d",
   "metadata": {},
   "outputs": [],
   "source": []
  }
 ],
 "metadata": {
  "kernelspec": {
   "display_name": "Python 3 (ipykernel)",
   "language": "python",
   "name": "python3"
  },
  "language_info": {
   "codemirror_mode": {
    "name": "ipython",
    "version": 3
   },
   "file_extension": ".py",
   "mimetype": "text/x-python",
   "name": "python",
   "nbconvert_exporter": "python",
   "pygments_lexer": "ipython3",
   "version": "3.10.9"
  }
 },
 "nbformat": 4,
 "nbformat_minor": 5
}
