{
 "cells": [
  {
   "cell_type": "markdown",
   "id": "907eb31b",
   "metadata": {},
   "source": [
    "Question 2: -\n",
    "Consider a string to be valid if all characters of the string appear the same number of times. It is also valid if\n",
    "he can remove just one character at the index in the string, and the remaining characters will occur the same\n",
    "number of times. Given a string, determine if it is valid. If so, return YES , otherwise return NO .\n",
    "\n",
    "Note - You have to write at least 2 additional test cases in which your program will run successfully and provide\n",
    "an explanation for the same.\n",
    "\n",
    "Example input 1 - s = “abc”. This is a valid string because frequencies are { “a”: 1, “b”: 1, “c”: 1 }\n",
    "\n",
    "Example output 1- YES\n",
    "\n",
    "Example input 2 - s “abcc”. This string is not valid as we can remove only 1 occurrence of “c”. That leaves\n",
    "character frequencies of { “a”: 1, “b”: 1 , “c”: 2 }\n",
    "\n",
    "Example output 2 - NO"
   ]
  },
  {
   "cell_type": "code",
   "execution_count": 5,
   "id": "de76b424",
   "metadata": {},
   "outputs": [
    {
     "name": "stdout",
     "output_type": "stream",
     "text": [
      "True\n",
      "False\n",
      "False\n"
     ]
    }
   ],
   "source": [
    "def is_valid_string(s):\n",
    "    freq = {}\n",
    "    for char in s:\n",
    "        freq[char] = freq.get(char, 0) + 1\n",
    "    values = list(freq.values())\n",
    "    if all(val == values[0] for val in values) or \\\n",
    "            sum(val == values[0] for val in values) == len(values) - 1:\n",
    "        return True\n",
    "    return False\n",
    "\n",
    "# Test cases\n",
    "print(is_valid_string(\"aabbc\")) # True\n",
    "print(is_valid_string(\"aaaabbcc\")) # False\n",
    "print(is_valid_string(\"aabbcd\")) # False"
   ]
  },
  {
   "cell_type": "code",
   "execution_count": null,
   "id": "6394a85c",
   "metadata": {},
   "outputs": [],
   "source": []
  }
 ],
 "metadata": {
  "kernelspec": {
   "display_name": "Python 3 (ipykernel)",
   "language": "python",
   "name": "python3"
  },
  "language_info": {
   "codemirror_mode": {
    "name": "ipython",
    "version": 3
   },
   "file_extension": ".py",
   "mimetype": "text/x-python",
   "name": "python",
   "nbconvert_exporter": "python",
   "pygments_lexer": "ipython3",
   "version": "3.9.13"
  }
 },
 "nbformat": 4,
 "nbformat_minor": 5
}
