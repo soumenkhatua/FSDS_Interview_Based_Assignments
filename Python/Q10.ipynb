{
 "cells": [
  {
   "cell_type": "markdown",
   "id": "d56344a3",
   "metadata": {},
   "source": [
    "Write a program to count the number of verbs, nouns, pronouns, and adjectives in a given particular phrase or\n",
    "paragraph, and return their respective count as a dictionary."
   ]
  },
  {
   "cell_type": "code",
   "execution_count": 7,
   "id": "8f04600d",
   "metadata": {},
   "outputs": [],
   "source": [
    "import nltk\n",
    "from nltk.tokenize import word_tokenize\n",
    "from nltk.tag import pos_tag"
   ]
  },
  {
   "cell_type": "code",
   "execution_count": 10,
   "id": "316a8960",
   "metadata": {},
   "outputs": [
    {
     "name": "stderr",
     "output_type": "stream",
     "text": [
      "[nltk_data] Downloading package punkt to\n",
      "[nltk_data]     C:\\Users\\Aman\\AppData\\Roaming\\nltk_data...\n",
      "[nltk_data]   Package punkt is already up-to-date!\n",
      "[nltk_data] Downloading package averaged_perceptron_tagger to\n",
      "[nltk_data]     C:\\Users\\Aman\\AppData\\Roaming\\nltk_data...\n",
      "[nltk_data]   Unzipping taggers\\averaged_perceptron_tagger.zip.\n"
     ]
    },
    {
     "data": {
      "text/plain": [
       "True"
      ]
     },
     "execution_count": 10,
     "metadata": {},
     "output_type": "execute_result"
    }
   ],
   "source": [
    "import nltk\n",
    "nltk.download('punkt')\n",
    "nltk.download('averaged_perceptron_tagger')"
   ]
  },
  {
   "cell_type": "code",
   "execution_count": 11,
   "id": "af1276ae",
   "metadata": {},
   "outputs": [],
   "source": [
    "def count_pos(text):\n",
    "    tokens = word_tokenize(text)\n",
    "    tags = pos_tag(tokens)\n",
    "    counts = {\"verb\": 0, \"noun\": 0, \"pronoun\": 0, \"adjective\": 0}\n",
    "    for tag in tags:\n",
    "        pos = tag[1]\n",
    "        if pos.startswith(\"V\"):\n",
    "            counts[\"verb\"] += 1\n",
    "        elif pos.startswith(\"N\"):\n",
    "            counts[\"noun\"] += 1\n",
    "        elif pos.startswith(\"PR\"):\n",
    "            counts[\"pronoun\"] += 1\n",
    "        elif pos.startswith(\"J\"):\n",
    "            counts[\"adjective\"] += 1\n",
    "    return counts\n"
   ]
  },
  {
   "cell_type": "code",
   "execution_count": 13,
   "id": "adc713dd",
   "metadata": {},
   "outputs": [
    {
     "name": "stdout",
     "output_type": "stream",
     "text": [
      "{'verb': 1, 'noun': 3, 'pronoun': 1, 'adjective': 0}\n"
     ]
    }
   ],
   "source": [
    "### Test Case\n",
    "text = \"My name is Aman gupta\"\n",
    "counts = count_pos(text)\n",
    "print(counts)"
   ]
  },
  {
   "cell_type": "code",
   "execution_count": 12,
   "id": "d082e9a9",
   "metadata": {},
   "outputs": [
    {
     "name": "stdout",
     "output_type": "stream",
     "text": [
      "{'verb': 1, 'noun': 3, 'pronoun': 0, 'adjective': 2}\n"
     ]
    }
   ],
   "source": [
    "### Test Case\n",
    "text = \"The quick brown fox jumps over the lazy dog\"\n",
    "counts = count_pos(text)\n",
    "print(counts)"
   ]
  },
  {
   "cell_type": "code",
   "execution_count": null,
   "id": "cdedee6d",
   "metadata": {},
   "outputs": [],
   "source": []
  }
 ],
 "metadata": {
  "kernelspec": {
   "display_name": "Python 3 (ipykernel)",
   "language": "python",
   "name": "python3"
  },
  "language_info": {
   "codemirror_mode": {
    "name": "ipython",
    "version": 3
   },
   "file_extension": ".py",
   "mimetype": "text/x-python",
   "name": "python",
   "nbconvert_exporter": "python",
   "pygments_lexer": "ipython3",
   "version": "3.9.12"
  }
 },
 "nbformat": 4,
 "nbformat_minor": 5
}
