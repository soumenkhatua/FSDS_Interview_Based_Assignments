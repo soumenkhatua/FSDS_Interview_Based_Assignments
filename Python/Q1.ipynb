{
 "cells": [
  {
   "cell_type": "markdown",
   "id": "eb06c2d2",
   "metadata": {},
   "source": [
    "### Question 1: -\n",
    "Write a program that takes a string as input, and counts the frequency of each word in the string, there might\n",
    "be repeated characters in the string. Your task is to find the highest frequency and returns the length of the\n",
    "highest-frequency word.\n",
    "\n",
    "Note - You have to write at least 2 additional test cases in which your program will run successfully and provide\n",
    "an explanation for the same.\n",
    "\n",
    "Example input - string = “write write write all the number from from from 1 to 100”\n",
    "\n",
    "Example output - 5\n",
    "\n",
    "Explanation - From the given string we can note that the most frequent words are “write” and “from” and\n",
    "the maximum value of both the values is “write” and its corresponding length is 5\n"
   ]
  },
  {
   "cell_type": "code",
   "execution_count": 7,
   "id": "bd80a8b0",
   "metadata": {},
   "outputs": [],
   "source": [
    "def find_highest_frequency(string):\n",
    "    words = string.split()\n",
    "    word_count = {}\n",
    "    \n",
    "    for word in words:\n",
    "        word_count[word] = word_count.get(word, 0) + 1\n",
    "    \n",
    "    max_count = max(word_count.values())\n",
    "    \n",
    "    max_length = 0\n",
    "    for word, count in word_count.items():\n",
    "        if count == max_count:\n",
    "            max_length = max(max_length, len(word))\n",
    "    \n",
    "    return max_length"
   ]
  },
  {
   "cell_type": "code",
   "execution_count": 10,
   "id": "6173db6c",
   "metadata": {},
   "outputs": [
    {
     "data": {
      "text/plain": [
       "4"
      ]
     },
     "execution_count": 10,
     "metadata": {},
     "output_type": "execute_result"
    }
   ],
   "source": [
    "### Test cases\n",
    "find_highest_frequency(\"My My Myyyyyy name name is Soumen\")\n",
    "# assert freq_and_leng(\"I am learning how how to write test cases\") == 3"
   ]
  },
  {
   "cell_type": "code",
   "execution_count": null,
   "id": "fbfcbde2",
   "metadata": {},
   "outputs": [],
   "source": []
  }
 ],
 "metadata": {
  "kernelspec": {
   "display_name": "Python 3 (ipykernel)",
   "language": "python",
   "name": "python3"
  },
  "language_info": {
   "codemirror_mode": {
    "name": "ipython",
    "version": 3
   },
   "file_extension": ".py",
   "mimetype": "text/x-python",
   "name": "python",
   "nbconvert_exporter": "python",
   "pygments_lexer": "ipython3",
   "version": "3.9.13"
  }
 },
 "nbformat": 4,
 "nbformat_minor": 5
}
