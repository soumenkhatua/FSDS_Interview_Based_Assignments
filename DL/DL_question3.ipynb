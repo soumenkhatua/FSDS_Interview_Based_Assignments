{
 "cells": [
  {
   "cell_type": "markdown",
   "metadata": {
    "id": "PZwFkwBGE2IA"
   },
   "source": [
    "## Tensorflow\n",
    "\n"
   ]
  },
  {
   "cell_type": "code",
   "execution_count": 58,
   "metadata": {
    "id": "3_i_lBSLE90z"
   },
   "outputs": [],
   "source": [
    "import tensorflow as tf\n",
    "from tensorflow.keras.datasets import mnist\n",
    "from tensorflow.keras.models import Sequential\n",
    "from tensorflow.keras.layers import Conv2D, MaxPooling2D, Flatten, Dense, Dropout\n",
    "from tensorflow.keras.optimizers import Adam"
   ]
  },
  {
   "cell_type": "markdown",
   "metadata": {
    "id": "sOoiHKHRJm-c"
   },
   "source": [
    "Load and preprocess the MNIST dataset\n"
   ]
  },
  {
   "cell_type": "code",
   "execution_count": 59,
   "metadata": {
    "id": "2eib5SulJscr"
   },
   "outputs": [],
   "source": [
    "(x_train, y_train), (x_test, y_test) = mnist.load_data()\n",
    "x_train = x_train.reshape(-1, 28, 28, 1).astype('float32') / 255.0\n",
    "x_test = x_test.reshape(-1, 28, 28, 1).astype('float32') / 255.0\n"
   ]
  },
  {
   "cell_type": "markdown",
   "metadata": {
    "id": "FiafB7sgKFfq"
   },
   "source": [
    "Define the model\n"
   ]
  },
  {
   "cell_type": "code",
   "execution_count": 61,
   "metadata": {
    "id": "nh_Ad3InLENE"
   },
   "outputs": [],
   "source": [
    "model = Sequential([\n",
    "    Conv2D(32, (3, 3), activation='relu', input_shape=(28, 28, 1)),\n",
    "    MaxPooling2D((2, 2)),\n",
    "    Conv2D(64, (3, 3), activation='relu'),\n",
    "    MaxPooling2D((2, 2)),\n",
    "    Flatten(),\n",
    "    Dense(128, activation='relu'),\n",
    "    Dropout(0.5),  # Adding dropout regularization\n",
    "    Dense(10, activation='softmax')\n",
    "])"
   ]
  },
  {
   "cell_type": "markdown",
   "metadata": {
    "id": "7OcfCnGJKJm3"
   },
   "source": [
    " Compile the model"
   ]
  },
  {
   "cell_type": "code",
   "execution_count": 67,
   "metadata": {
    "id": "khPiafbKKKeU"
   },
   "outputs": [],
   "source": [
    "learning_rate = 0.00001\n",
    "optimizer = Adam(learning_rate=learning_rate)\n",
    "\n",
    "\n",
    "model.compile(optimizer=optimizer, loss='sparse_categorical_crossentropy', metrics=['accuracy'])"
   ]
  },
  {
   "cell_type": "markdown",
   "metadata": {
    "id": "JM7vqPR-KOge"
   },
   "source": [
    "Train the model"
   ]
  },
  {
   "cell_type": "code",
   "execution_count": 68,
   "metadata": {
    "colab": {
     "base_uri": "https://localhost:8080/"
    },
    "id": "M4jSMFi2KPgi",
    "outputId": "42f151f5-a85e-4a41-e847-d50a1dabbe65"
   },
   "outputs": [
    {
     "name": "stdout",
     "output_type": "stream",
     "text": [
      "Epoch 1/20\n",
      "422/422 [==============================] - 4s 5ms/step - loss: 0.0087 - accuracy: 0.9970 - val_loss: 0.0346 - val_accuracy: 0.9925\n",
      "Epoch 2/20\n",
      "422/422 [==============================] - 2s 5ms/step - loss: 0.0073 - accuracy: 0.9974 - val_loss: 0.0355 - val_accuracy: 0.9927\n",
      "Epoch 3/20\n",
      "422/422 [==============================] - 2s 5ms/step - loss: 0.0067 - accuracy: 0.9979 - val_loss: 0.0361 - val_accuracy: 0.9923\n",
      "Epoch 4/20\n",
      "422/422 [==============================] - 2s 4ms/step - loss: 0.0064 - accuracy: 0.9980 - val_loss: 0.0366 - val_accuracy: 0.9922\n",
      "Epoch 5/20\n",
      "422/422 [==============================] - 2s 5ms/step - loss: 0.0066 - accuracy: 0.9979 - val_loss: 0.0372 - val_accuracy: 0.9920\n",
      "Epoch 6/20\n",
      "422/422 [==============================] - 2s 4ms/step - loss: 0.0058 - accuracy: 0.9982 - val_loss: 0.0373 - val_accuracy: 0.9925\n",
      "Epoch 7/20\n",
      "422/422 [==============================] - 2s 5ms/step - loss: 0.0057 - accuracy: 0.9983 - val_loss: 0.0378 - val_accuracy: 0.9925\n",
      "Epoch 8/20\n",
      "422/422 [==============================] - 2s 5ms/step - loss: 0.0056 - accuracy: 0.9983 - val_loss: 0.0380 - val_accuracy: 0.9923\n",
      "Epoch 9/20\n",
      "422/422 [==============================] - 2s 6ms/step - loss: 0.0052 - accuracy: 0.9983 - val_loss: 0.0383 - val_accuracy: 0.9925\n",
      "Epoch 10/20\n",
      "422/422 [==============================] - 2s 5ms/step - loss: 0.0050 - accuracy: 0.9984 - val_loss: 0.0388 - val_accuracy: 0.9925\n",
      "Epoch 11/20\n",
      "422/422 [==============================] - 2s 5ms/step - loss: 0.0047 - accuracy: 0.9984 - val_loss: 0.0389 - val_accuracy: 0.9923\n",
      "Epoch 12/20\n",
      "422/422 [==============================] - 2s 5ms/step - loss: 0.0045 - accuracy: 0.9986 - val_loss: 0.0390 - val_accuracy: 0.9927\n",
      "Epoch 13/20\n",
      "422/422 [==============================] - 2s 4ms/step - loss: 0.0044 - accuracy: 0.9986 - val_loss: 0.0395 - val_accuracy: 0.9925\n",
      "Epoch 14/20\n",
      "422/422 [==============================] - 2s 4ms/step - loss: 0.0048 - accuracy: 0.9983 - val_loss: 0.0394 - val_accuracy: 0.9922\n",
      "Epoch 15/20\n",
      "422/422 [==============================] - 2s 6ms/step - loss: 0.0048 - accuracy: 0.9985 - val_loss: 0.0399 - val_accuracy: 0.9925\n",
      "Epoch 16/20\n",
      "422/422 [==============================] - 2s 4ms/step - loss: 0.0046 - accuracy: 0.9985 - val_loss: 0.0401 - val_accuracy: 0.9922\n",
      "Epoch 17/20\n",
      "422/422 [==============================] - 2s 4ms/step - loss: 0.0038 - accuracy: 0.9988 - val_loss: 0.0401 - val_accuracy: 0.9920\n",
      "Epoch 18/20\n",
      "422/422 [==============================] - 2s 5ms/step - loss: 0.0039 - accuracy: 0.9988 - val_loss: 0.0402 - val_accuracy: 0.9923\n",
      "Epoch 19/20\n",
      "422/422 [==============================] - 2s 4ms/step - loss: 0.0040 - accuracy: 0.9987 - val_loss: 0.0403 - val_accuracy: 0.9927\n",
      "Epoch 20/20\n",
      "422/422 [==============================] - 2s 5ms/step - loss: 0.0044 - accuracy: 0.9986 - val_loss: 0.0406 - val_accuracy: 0.9928\n"
     ]
    }
   ],
   "source": [
    "history = model.fit(x_train, y_train, validation_split=0.1, epochs=20, batch_size=128)"
   ]
  },
  {
   "cell_type": "markdown",
   "metadata": {
    "id": "sdth2e9qKTBB"
   },
   "source": [
    "Evaluate the model on test set"
   ]
  },
  {
   "cell_type": "code",
   "execution_count": 69,
   "metadata": {
    "colab": {
     "base_uri": "https://localhost:8080/"
    },
    "id": "xhDzdM4BKUCp",
    "outputId": "5235c876-c7f9-43a2-a1bb-2e6106aa98bc"
   },
   "outputs": [
    {
     "name": "stdout",
     "output_type": "stream",
     "text": [
      "313/313 [==============================] - 1s 3ms/step - loss: 0.0267 - accuracy: 0.9945\n",
      "Test Loss: 0.0267\n",
      "Test Accuracy: 0.9945\n"
     ]
    }
   ],
   "source": [
    "test_loss, test_accuracy = model.evaluate(x_test, y_test)\n",
    "print(f\"Test Loss: {test_loss:.4f}\")\n",
    "print(f\"Test Accuracy: {test_accuracy:.4f}\")"
   ]
  }
 ],
 "metadata": {
  "accelerator": "GPU",
  "colab": {
   "gpuType": "T4",
   "provenance": []
  },
  "gpuClass": "standard",
  "kernelspec": {
   "display_name": "Python 3 (ipykernel)",
   "language": "python",
   "name": "python3"
  },
  "language_info": {
   "codemirror_mode": {
    "name": "ipython",
    "version": 3
   },
   "file_extension": ".py",
   "mimetype": "text/x-python",
   "name": "python",
   "nbconvert_exporter": "python",
   "pygments_lexer": "ipython3",
   "version": "3.10.2"
  }
 },
 "nbformat": 4,
 "nbformat_minor": 1
}
