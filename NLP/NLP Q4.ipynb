{
 "cells": [
  {
   "cell_type": "markdown",
   "id": "2c1251d5",
   "metadata": {},
   "source": [
    "Q-4. Take any text file and now your task is to Text Summarization without using\n",
    "hugging transformer library!"
   ]
  },
  {
   "cell_type": "code",
   "execution_count": 1,
   "id": "103a78b4",
   "metadata": {},
   "outputs": [],
   "source": [
    "import re\n",
    "from collections import defaultdict\n",
    "import heapq\n",
    "import nltk\n",
    "from nltk.corpus import stopwords\n",
    "from nltk.tokenize import sent_tokenize, word_tokenize"
   ]
  },
  {
   "cell_type": "code",
   "execution_count": 2,
   "id": "eda56744",
   "metadata": {},
   "outputs": [
    {
     "name": "stderr",
     "output_type": "stream",
     "text": [
      "[nltk_data] Downloading package punkt to\n",
      "[nltk_data]     C:\\Users\\Aman\\AppData\\Roaming\\nltk_data...\n",
      "[nltk_data]   Package punkt is already up-to-date!\n",
      "[nltk_data] Downloading package stopwords to\n",
      "[nltk_data]     C:\\Users\\Aman\\AppData\\Roaming\\nltk_data...\n",
      "[nltk_data]   Unzipping corpora\\stopwords.zip.\n"
     ]
    },
    {
     "data": {
      "text/plain": [
       "True"
      ]
     },
     "execution_count": 2,
     "metadata": {},
     "output_type": "execute_result"
    }
   ],
   "source": [
    "nltk.download('punkt')\n",
    "nltk.download('stopwords')"
   ]
  },
  {
   "cell_type": "code",
   "execution_count": 3,
   "id": "97b5308d",
   "metadata": {},
   "outputs": [],
   "source": [
    "def preprocess_text(text):\n",
    "    # Remove special characters and numbers\n",
    "    processed_text = re.sub('[^a-zA-Z]', ' ', text)\n",
    "    \n",
    "    # Convert to lowercase\n",
    "    processed_text = processed_text.lower()\n",
    "    \n",
    "    return processed_text\n",
    "\n",
    "def tokenize_sentences(text):\n",
    "    # Tokenize the text into sentences\n",
    "    sentences = sent_tokenize(text)\n",
    "    \n",
    "    return sentences\n"
   ]
  },
  {
   "cell_type": "code",
   "execution_count": 4,
   "id": "e11b17a3",
   "metadata": {},
   "outputs": [],
   "source": [
    "def tokenize_words(sentence):\n",
    "    # Tokenize a sentence into words\n",
    "    words = word_tokenize(sentence)\n",
    "    \n",
    "    return words\n",
    "\n",
    "def calculate_word_frequencies(sentences):\n",
    "    word_frequencies = defaultdict(int)\n",
    "    stop_words = set(stopwords.words('english'))\n",
    "    \n",
    "    # Calculate word frequencies\n",
    "    for sentence in sentences:\n",
    "        words = tokenize_words(sentence)\n",
    "        for word in words:\n",
    "            if word not in stop_words:\n",
    "                word_frequencies[word] += 1\n",
    "    \n",
    "    return word_frequencies\n"
   ]
  },
  {
   "cell_type": "code",
   "execution_count": 5,
   "id": "071fa446",
   "metadata": {},
   "outputs": [],
   "source": [
    "def calculate_sentence_scores(sentences, word_frequencies):\n",
    "    sentence_scores = defaultdict(int)\n",
    "    \n",
    "    # Calculate sentence scores based on word frequencies\n",
    "    for i, sentence in enumerate(sentences):\n",
    "        words = tokenize_words(sentence)\n",
    "        sentence_scores[i] = sum(word_frequencies[word] for word in words)\n",
    "    \n",
    "    return sentence_scores\n",
    "\n",
    "def generate_summary(text, num_sentences):\n",
    "    processed_text = preprocess_text(text)\n",
    "    sentences = tokenize_sentences(processed_text)\n",
    "    word_frequencies = calculate_word_frequencies(sentences)\n",
    "    sentence_scores = calculate_sentence_scores(sentences, word_frequencies)\n",
    "    \n",
    "    # Select top-scoring sentences\n",
    "    top_sentences = heapq.nlargest(num_sentences, sentence_scores, key=sentence_scores.get)\n",
    "    \n",
    "    summary = ' '.join([sentences[i] for i in top_sentences])\n",
    "    return summary\n"
   ]
  },
  {
   "cell_type": "code",
   "execution_count": 6,
   "id": "b8e694e4",
   "metadata": {},
   "outputs": [
    {
     "name": "stdout",
     "output_type": "stream",
     "text": [
      " this is an example text for demonstration purposes  text summarization is a useful technique to condense long texts and extract key information  the extractive method selects important sentences from the original text to create a summary  in this approach  we can use various scoring methods such as word frequency  sentence position  and named entity recognition  the final summary consists of the top scoring sentences  implementing a robust text summarization system is challenging  and professional libraries like hugging face s transformers provide advanced models for better results\n"
     ]
    }
   ],
   "source": [
    "# Example usage\n",
    "text = '''\n",
    "This is an example text for demonstration purposes. Text summarization is a useful technique to condense long texts and extract key information. The extractive method selects important sentences from the original text to create a summary. In this approach, we can use various scoring methods such as word frequency, sentence position, and named entity recognition. The final summary consists of the top-scoring sentences. Implementing a robust text summarization system is challenging, and professional libraries like Hugging Face's Transformers provide advanced models for better results.\n",
    "'''\n",
    "\n",
    "summary = generate_summary(text, num_sentences=2)\n",
    "print(summary)\n"
   ]
  },
  {
   "cell_type": "code",
   "execution_count": null,
   "id": "fc21d858",
   "metadata": {},
   "outputs": [],
   "source": []
  }
 ],
 "metadata": {
  "kernelspec": {
   "display_name": "Python 3 (ipykernel)",
   "language": "python",
   "name": "python3"
  },
  "language_info": {
   "codemirror_mode": {
    "name": "ipython",
    "version": 3
   },
   "file_extension": ".py",
   "mimetype": "text/x-python",
   "name": "python",
   "nbconvert_exporter": "python",
   "pygments_lexer": "ipython3",
   "version": "3.9.12"
  }
 },
 "nbformat": 4,
 "nbformat_minor": 5
}
