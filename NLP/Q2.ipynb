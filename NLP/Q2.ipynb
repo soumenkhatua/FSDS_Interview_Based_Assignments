{
 "cells": [
  {
   "cell_type": "markdown",
   "id": "b01a317f",
   "metadata": {},
   "source": [
    "Q-2. Take any pdf and your task is to extract the text from that pdf and store it in a\n",
    "csv file and then you need to find the most repeated word in that pdf."
   ]
  },
  {
   "cell_type": "code",
   "execution_count": 1,
   "id": "bbb148d8",
   "metadata": {},
   "outputs": [],
   "source": [
    "#!pip install PyPDF2"
   ]
  },
  {
   "cell_type": "code",
   "execution_count": 2,
   "id": "63af8348",
   "metadata": {},
   "outputs": [],
   "source": [
    "import PyPDF2\n",
    "\n",
    "# Create a PDF reader object\n",
    "reader = PyPDF2.PdfReader('2022_Block_Group_PDB_Documentation.pdf')\n",
    "\n",
    "# Get the number of pages in the PDF file\n",
    "num_pages = len(reader.pages)\n",
    "# Create a list to store the text from each page\n",
    "text_list = []\n",
    "\n",
    "# Loop over all the pages in the PDF file\n",
    "for i in range(num_pages):\n",
    "\n",
    "  # Get the text from the page\n",
    "  text = reader.pages[i].extract_text()\n",
    "\n",
    "  # Add the text to the list\n",
    "  text_list.append(text)\n",
    "data = \" \"\n",
    "try:\n",
    "    # Write the text to a CSV file\n",
    "    with open('example.txt', 'w') as f:\n",
    "      for text in text_list:\n",
    "        f.write(text + '\\n')\n",
    "        data = data + text\n",
    "except Exception as e:\n",
    "    pass"
   ]
  },
  {
   "cell_type": "code",
   "execution_count": 3,
   "id": "c3508614",
   "metadata": {},
   "outputs": [],
   "source": [
    "from collections import Counter\n",
    "def most_repeated_word(s):\n",
    "    l = s.split()\n",
    "    dt = {}\n",
    "    for i in l:\n",
    "        if i not in dt:\n",
    "            dt[i] = 1\n",
    "        else:\n",
    "            dt[i] += 1\n",
    "    res = Counter(l)\n",
    "    mc = res.most_common()\n",
    "    return mc"
   ]
  },
  {
   "cell_type": "code",
   "execution_count": 4,
   "id": "5791f471",
   "metadata": {},
   "outputs": [
    {
     "data": {
      "text/plain": [
       "[('the', 18),\n",
       " ('of', 12),\n",
       " ('ACS', 7),\n",
       " ('or', 7),\n",
       " ('and', 6),\n",
       " ('these', 6),\n",
       " ('for', 5),\n",
       " ('people', 4),\n",
       " ('meeting', 4),\n",
       " ('to', 3),\n",
       " ('Census', 3),\n",
       " ('tables', 3),\n",
       " ('5', 3),\n",
       " ('new', 3),\n",
       " ('2016', 3),\n",
       " ('-2020', 3),\n",
       " ('variables', 3),\n",
       " ('2022', 3),\n",
       " ('number', 3),\n",
       " ('(i)', 3)]"
      ]
     },
     "execution_count": 4,
     "metadata": {},
     "output_type": "execute_result"
    }
   ],
   "source": [
    "most_repeated_word(text)[:20]"
   ]
  },
  {
   "cell_type": "code",
   "execution_count": null,
   "id": "512e8726",
   "metadata": {},
   "outputs": [],
   "source": []
  },
  {
   "cell_type": "code",
   "execution_count": null,
   "id": "7cefe522",
   "metadata": {},
   "outputs": [],
   "source": []
  }
 ],
 "metadata": {
  "kernelspec": {
   "display_name": "Python 3 (ipykernel)",
   "language": "python",
   "name": "python3"
  },
  "language_info": {
   "codemirror_mode": {
    "name": "ipython",
    "version": 3
   },
   "file_extension": ".py",
   "mimetype": "text/x-python",
   "name": "python",
   "nbconvert_exporter": "python",
   "pygments_lexer": "ipython3",
   "version": "3.9.12"
  }
 },
 "nbformat": 4,
 "nbformat_minor": 5
}
