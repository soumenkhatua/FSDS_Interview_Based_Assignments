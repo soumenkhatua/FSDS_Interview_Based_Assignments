{
 "cells": [
  {
   "cell_type": "code",
   "execution_count": null,
   "id": "5df8dc59",
   "metadata": {},
   "outputs": [],
   "source": []
  },
  {
   "cell_type": "code",
   "execution_count": null,
   "id": "8e130970",
   "metadata": {},
   "outputs": [],
   "source": [
    "# Q-8. Take a any own dataset and build a knowledge bot using Llama model."
   ]
  },
  {
   "cell_type": "code",
   "execution_count": 2,
   "id": "97e23a63",
   "metadata": {},
   "outputs": [],
   "source": [
    "# !pip install openai"
   ]
  },
  {
   "cell_type": "code",
   "execution_count": 3,
   "id": "a8e81542",
   "metadata": {},
   "outputs": [],
   "source": [
    "import openai\n",
    "\n",
    "# Set up OpenAI API credentials\n",
    "openai.api_key = 'USE_YOUR_API_KEY'"
   ]
  },
  {
   "cell_type": "code",
   "execution_count": 6,
   "id": "05e7cb8d",
   "metadata": {},
   "outputs": [],
   "source": [
    "# Define a function to interact with the Llama model\n",
    "def query_llama(question):\n",
    "    response = openai.Completion.create(\n",
    "        engine='text-davinci-003',  # Llama model\n",
    "        prompt=question,\n",
    "        max_tokens=100,\n",
    "        temperature=0.6,\n",
    "        n=1,\n",
    "        stop=None\n",
    "    )\n",
    "    return response.choices[0].text.strip()"
   ]
  },
  {
   "cell_type": "code",
   "execution_count": 7,
   "id": "fb63c7a0",
   "metadata": {},
   "outputs": [
    {
     "name": "stdout",
     "output_type": "stream",
     "text": [
      "Knowledge Bot: Hello! How can I assist you today?\n",
      "You: Tell me a Joke on coding!\n",
      "Knowledge Bot: Q: What did the computer scientist wear to the wedding?\n",
      "A: A Sleeve-tual.\n",
      "You: quit\n",
      "Knowledge Bot: ()\n",
      "Knowledge Bot: Goodbye!\n"
     ]
    }
   ],
   "source": [
    "# Main interaction loop\n",
    "def main():\n",
    "    print(\"Knowledge Bot: Hello! How can I assist you today?\")\n",
    "\n",
    "    while True:\n",
    "        user_input = input(\"You: \")\n",
    "\n",
    "        # Query the Llama model\n",
    "        response = query_llama(user_input)\n",
    "\n",
    "        # Extract the bot's reply from the response\n",
    "        bot_reply = response.split(\"Knowledge Bot: \")[-1]\n",
    "        print(\"Knowledge Bot:\", bot_reply)\n",
    "\n",
    "        # Break the loop if the user wants to exit\n",
    "        if user_input.lower() in ['exit', 'quit', 'bye']:\n",
    "            print(\"Knowledge Bot: Goodbye!\")\n",
    "            break\n",
    "\n",
    "if __name__ == '__main__':\n",
    "    main()"
   ]
  },
  {
   "cell_type": "code",
   "execution_count": null,
   "id": "988d7b54",
   "metadata": {},
   "outputs": [],
   "source": []
  },
  {
   "cell_type": "code",
   "execution_count": null,
   "id": "1b0ca826",
   "metadata": {},
   "outputs": [],
   "source": []
  },
  {
   "cell_type": "code",
   "execution_count": null,
   "id": "67dfe947",
   "metadata": {},
   "outputs": [],
   "source": []
  }
 ],
 "metadata": {
  "kernelspec": {
   "display_name": "Python 3 (ipykernel)",
   "language": "python",
   "name": "python3"
  },
  "language_info": {
   "codemirror_mode": {
    "name": "ipython",
    "version": 3
   },
   "file_extension": ".py",
   "mimetype": "text/x-python",
   "name": "python",
   "nbconvert_exporter": "python",
   "pygments_lexer": "ipython3",
   "version": "3.9.12"
  }
 },
 "nbformat": 4,
 "nbformat_minor": 5
}
